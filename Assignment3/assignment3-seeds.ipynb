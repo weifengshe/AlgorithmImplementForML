{
 "cells": [
  {
   "cell_type": "code",
   "execution_count": 2,
   "metadata": {
    "collapsed": false
   },
   "outputs": [],
   "source": [
    "import pandas as pd\n",
    "import numpy as np\n",
    "import os\n",
    "import matplotlib.pyplot as plt\n",
    "\n",
    "%matplotlib inline\n"
   ]
  },
  {
   "cell_type": "code",
   "execution_count": 51,
   "metadata": {
    "collapsed": false
   },
   "outputs": [],
   "source": [
    "seeds = pd.read_csv('seeds_dataset.txt', sep = '\\t', header = None, error_bad_lines=False)"
   ]
  },
  {
   "cell_type": "code",
   "execution_count": 52,
   "metadata": {
    "collapsed": false
   },
   "outputs": [
    {
     "data": {
      "text/html": [
       "<div>\n",
       "<table border=\"1\" class=\"dataframe\">\n",
       "  <thead>\n",
       "    <tr style=\"text-align: right;\">\n",
       "      <th></th>\n",
       "      <th>0</th>\n",
       "      <th>1</th>\n",
       "      <th>2</th>\n",
       "      <th>3</th>\n",
       "      <th>4</th>\n",
       "      <th>5</th>\n",
       "      <th>6</th>\n",
       "      <th>7</th>\n",
       "    </tr>\n",
       "  </thead>\n",
       "  <tbody>\n",
       "    <tr>\n",
       "      <th>count</th>\n",
       "      <td>210.000000</td>\n",
       "      <td>210.000000</td>\n",
       "      <td>210.000000</td>\n",
       "      <td>210.000000</td>\n",
       "      <td>210.000000</td>\n",
       "      <td>210.000000</td>\n",
       "      <td>210.000000</td>\n",
       "      <td>210.000000</td>\n",
       "    </tr>\n",
       "    <tr>\n",
       "      <th>mean</th>\n",
       "      <td>14.847524</td>\n",
       "      <td>14.559286</td>\n",
       "      <td>0.870999</td>\n",
       "      <td>5.628533</td>\n",
       "      <td>3.258605</td>\n",
       "      <td>3.700201</td>\n",
       "      <td>5.408071</td>\n",
       "      <td>2.000000</td>\n",
       "    </tr>\n",
       "    <tr>\n",
       "      <th>std</th>\n",
       "      <td>2.909699</td>\n",
       "      <td>1.305959</td>\n",
       "      <td>0.023629</td>\n",
       "      <td>0.443063</td>\n",
       "      <td>0.377714</td>\n",
       "      <td>1.503557</td>\n",
       "      <td>0.491480</td>\n",
       "      <td>0.818448</td>\n",
       "    </tr>\n",
       "    <tr>\n",
       "      <th>min</th>\n",
       "      <td>10.590000</td>\n",
       "      <td>12.410000</td>\n",
       "      <td>0.808100</td>\n",
       "      <td>4.899000</td>\n",
       "      <td>2.630000</td>\n",
       "      <td>0.765100</td>\n",
       "      <td>4.519000</td>\n",
       "      <td>1.000000</td>\n",
       "    </tr>\n",
       "    <tr>\n",
       "      <th>25%</th>\n",
       "      <td>12.270000</td>\n",
       "      <td>13.450000</td>\n",
       "      <td>0.856900</td>\n",
       "      <td>5.262250</td>\n",
       "      <td>2.944000</td>\n",
       "      <td>2.561500</td>\n",
       "      <td>5.045000</td>\n",
       "      <td>1.000000</td>\n",
       "    </tr>\n",
       "    <tr>\n",
       "      <th>50%</th>\n",
       "      <td>14.355000</td>\n",
       "      <td>14.320000</td>\n",
       "      <td>0.873450</td>\n",
       "      <td>5.523500</td>\n",
       "      <td>3.237000</td>\n",
       "      <td>3.599000</td>\n",
       "      <td>5.223000</td>\n",
       "      <td>2.000000</td>\n",
       "    </tr>\n",
       "    <tr>\n",
       "      <th>75%</th>\n",
       "      <td>17.305000</td>\n",
       "      <td>15.715000</td>\n",
       "      <td>0.887775</td>\n",
       "      <td>5.979750</td>\n",
       "      <td>3.561750</td>\n",
       "      <td>4.768750</td>\n",
       "      <td>5.877000</td>\n",
       "      <td>3.000000</td>\n",
       "    </tr>\n",
       "    <tr>\n",
       "      <th>max</th>\n",
       "      <td>21.180000</td>\n",
       "      <td>17.250000</td>\n",
       "      <td>0.918300</td>\n",
       "      <td>6.675000</td>\n",
       "      <td>4.033000</td>\n",
       "      <td>8.456000</td>\n",
       "      <td>6.550000</td>\n",
       "      <td>3.000000</td>\n",
       "    </tr>\n",
       "  </tbody>\n",
       "</table>\n",
       "</div>"
      ],
      "text/plain": [
       "                0           1           2           3           4           5  \\\n",
       "count  210.000000  210.000000  210.000000  210.000000  210.000000  210.000000   \n",
       "mean    14.847524   14.559286    0.870999    5.628533    3.258605    3.700201   \n",
       "std      2.909699    1.305959    0.023629    0.443063    0.377714    1.503557   \n",
       "min     10.590000   12.410000    0.808100    4.899000    2.630000    0.765100   \n",
       "25%     12.270000   13.450000    0.856900    5.262250    2.944000    2.561500   \n",
       "50%     14.355000   14.320000    0.873450    5.523500    3.237000    3.599000   \n",
       "75%     17.305000   15.715000    0.887775    5.979750    3.561750    4.768750   \n",
       "max     21.180000   17.250000    0.918300    6.675000    4.033000    8.456000   \n",
       "\n",
       "                6           7  \n",
       "count  210.000000  210.000000  \n",
       "mean     5.408071    2.000000  \n",
       "std      0.491480    0.818448  \n",
       "min      4.519000    1.000000  \n",
       "25%      5.045000    1.000000  \n",
       "50%      5.223000    2.000000  \n",
       "75%      5.877000    3.000000  \n",
       "max      6.550000    3.000000  "
      ]
     },
     "execution_count": 52,
     "metadata": {},
     "output_type": "execute_result"
    }
   ],
   "source": [
    "seeds.describe()"
   ]
  },
  {
   "cell_type": "code",
   "execution_count": 53,
   "metadata": {
    "collapsed": false
   },
   "outputs": [
    {
     "data": {
      "text/html": [
       "<div>\n",
       "<table border=\"1\" class=\"dataframe\">\n",
       "  <thead>\n",
       "    <tr style=\"text-align: right;\">\n",
       "      <th></th>\n",
       "      <th>0</th>\n",
       "      <th>1</th>\n",
       "      <th>2</th>\n",
       "      <th>3</th>\n",
       "      <th>4</th>\n",
       "      <th>5</th>\n",
       "      <th>6</th>\n",
       "      <th>7</th>\n",
       "    </tr>\n",
       "  </thead>\n",
       "  <tbody>\n",
       "    <tr>\n",
       "      <th>0</th>\n",
       "      <td>15.26</td>\n",
       "      <td>14.84</td>\n",
       "      <td>0.8710</td>\n",
       "      <td>5.763</td>\n",
       "      <td>3.312</td>\n",
       "      <td>2.221</td>\n",
       "      <td>5.220</td>\n",
       "      <td>1</td>\n",
       "    </tr>\n",
       "    <tr>\n",
       "      <th>1</th>\n",
       "      <td>14.88</td>\n",
       "      <td>14.57</td>\n",
       "      <td>0.8811</td>\n",
       "      <td>5.554</td>\n",
       "      <td>3.333</td>\n",
       "      <td>1.018</td>\n",
       "      <td>4.956</td>\n",
       "      <td>1</td>\n",
       "    </tr>\n",
       "    <tr>\n",
       "      <th>2</th>\n",
       "      <td>14.29</td>\n",
       "      <td>14.09</td>\n",
       "      <td>0.9050</td>\n",
       "      <td>5.291</td>\n",
       "      <td>3.337</td>\n",
       "      <td>2.699</td>\n",
       "      <td>4.825</td>\n",
       "      <td>1</td>\n",
       "    </tr>\n",
       "    <tr>\n",
       "      <th>3</th>\n",
       "      <td>13.84</td>\n",
       "      <td>13.94</td>\n",
       "      <td>0.8955</td>\n",
       "      <td>5.324</td>\n",
       "      <td>3.379</td>\n",
       "      <td>2.259</td>\n",
       "      <td>4.805</td>\n",
       "      <td>1</td>\n",
       "    </tr>\n",
       "    <tr>\n",
       "      <th>4</th>\n",
       "      <td>16.14</td>\n",
       "      <td>14.99</td>\n",
       "      <td>0.9034</td>\n",
       "      <td>5.658</td>\n",
       "      <td>3.562</td>\n",
       "      <td>1.355</td>\n",
       "      <td>5.175</td>\n",
       "      <td>1</td>\n",
       "    </tr>\n",
       "  </tbody>\n",
       "</table>\n",
       "</div>"
      ],
      "text/plain": [
       "       0      1       2      3      4      5      6  7\n",
       "0  15.26  14.84  0.8710  5.763  3.312  2.221  5.220  1\n",
       "1  14.88  14.57  0.8811  5.554  3.333  1.018  4.956  1\n",
       "2  14.29  14.09  0.9050  5.291  3.337  2.699  4.825  1\n",
       "3  13.84  13.94  0.8955  5.324  3.379  2.259  4.805  1\n",
       "4  16.14  14.99  0.9034  5.658  3.562  1.355  5.175  1"
      ]
     },
     "execution_count": 53,
     "metadata": {},
     "output_type": "execute_result"
    }
   ],
   "source": [
    "seeds.head()"
   ]
  },
  {
   "cell_type": "markdown",
   "metadata": {},
   "source": [
    "## 1. Run the clustering algorithms on the data sets and describe what you see."
   ]
  },
  {
   "cell_type": "markdown",
   "metadata": {},
   "source": [
    "### K-means clustering"
   ]
  },
  {
   "cell_type": "code",
   "execution_count": 61,
   "metadata": {
    "collapsed": true
   },
   "outputs": [],
   "source": [
    "from sklearn.cluster import KMeans\n",
    "from sklearn import metrics"
   ]
  },
  {
   "cell_type": "code",
   "execution_count": 64,
   "metadata": {
    "collapsed": false
   },
   "outputs": [],
   "source": [
    "# seperate the feature from target\n",
    "seeds_data = seeds.iloc[:, :-1]\n",
    "seeds_target = seeds.iloc[:, -1]\n",
    "n_samples, n_features = seeds_data.shape\n",
    "# get the number of types of seeds\n",
    "n_types = len(np.unique(seeds_target))\n"
   ]
  },
  {
   "cell_type": "code",
   "execution_count": 266,
   "metadata": {
    "collapsed": false
   },
   "outputs": [
    {
     "data": {
      "text/plain": [
       "<matplotlib.text.Text at 0x10b9c3d10>"
      ]
     },
     "execution_count": 266,
     "metadata": {},
     "output_type": "execute_result"
    },
    {
     "data": {
      "image/png": "[encoded data removed]",
      "text/plain": [
       "<matplotlib.figure.Figure at 0x10bddf850>"
      ]
     },
     "metadata": {},
     "output_type": "display_data"
    }
   ],
   "source": [
    "# use \"elbow method\" to find the best k\n",
    "# kmeans score returns the opposite of the sum of inter-cluster distances, the sum of inter-cluster distances is what k-means tries to minimize\n",
    "scores = []\n",
    "for i in range(2, 30):\n",
    "    kmeans_model = KMeans(n_clusters=i, random_state=1)\n",
    "    kmeans_model.fit(seeds_data)\n",
    "    score = kmeans_model.score(seeds_data)\n",
    "    scores.append(score)\n",
    "    \n",
    "#print scores\n",
    "pd.Series(scores).plot()\n",
    "plt.title(\"elbow method used to find the best k\")\n",
    "\n"
   ]
  },
  {
   "cell_type": "code",
   "execution_count": 267,
   "metadata": {
    "collapsed": false
   },
   "outputs": [
    {
     "name": "stdout",
     "output_type": "stream",
     "text": [
      "             precision    recall  f1-score   support\n",
      "\n",
      "          0       0.00      0.00      0.00         0\n",
      "          1       0.12      0.13      0.12        70\n",
      "          2       0.14      0.14      0.14        70\n",
      "          3       0.00      0.00      0.00        70\n",
      "\n",
      "avg / total       0.09      0.09      0.09       210\n",
      "\n"
     ]
    }
   ],
   "source": [
    "kmeans_model = KMeans(n_clusters=3, random_state=1)\n",
    "kmeans_model.fit(seeds_data)\n",
    "seeds_labels = kmeans_model.labels_\n",
    "#random_state = 170\n",
    "#target_pred = KMeans(n_clusters=3, random_state=random_state).fit_predict(data)\n",
    "\n",
    "seeds_expected = seeds_target\n",
    "seeds_predicted = kmeans_model.predict(seeds_data)\n",
    "print(metrics.classification_report(seeds_expected, seeds_predicted))\n"
   ]
  },
  {
   "cell_type": "markdown",
   "metadata": {},
   "source": [
    "The Rand Index computes a similarity measure between two clusterings by considering all pairs of samples and counting pairs that are assigned in the same or different clusters in the predicted and true clusterings.\n",
    "\n",
    "The adjusted Rand index is thus ensured to have a value close to 0.0 for random labeling independently of the number of clusters and samples and exactly 1.0 when the clusterings are identical (up to a permutation)."
   ]
  },
  {
   "cell_type": "code",
   "execution_count": 268,
   "metadata": {
    "collapsed": false
   },
   "outputs": [
    {
     "data": {
      "text/plain": [
       "0.7166198557361053"
      ]
     },
     "execution_count": 268,
     "metadata": {},
     "output_type": "execute_result"
    }
   ],
   "source": [
    "from sklearn.metrics.cluster import adjusted_rand_score\n",
    "adjusted_rand_score(seeds_predicted, seeds_expected)"
   ]
  },
  {
   "cell_type": "code",
   "execution_count": 269,
   "metadata": {
    "collapsed": false
   },
   "outputs": [
    {
     "name": "stdout",
     "output_type": "stream",
     "text": [
      "             precision    recall  f1-score   support\n",
      "\n",
      "          0       0.00      0.00      0.00         0\n",
      "          1       0.12      0.13      0.12        70\n",
      "          2       0.14      0.14      0.14        70\n",
      "          3       0.00      0.00      0.00        70\n",
      "\n",
      "avg / total       0.09      0.09      0.09       210\n",
      "\n"
     ]
    }
   ],
   "source": [
    "print(metrics.classification_report(seeds_expected, seeds_predicted))\n"
   ]
  },
  {
   "cell_type": "code",
   "execution_count": 270,
   "metadata": {
    "collapsed": false
   },
   "outputs": [
    {
     "name": "stdout",
     "output_type": "stream",
     "text": [
      "[[ 0  0  0  0]\n",
      " [ 1  9 60  0]\n",
      " [60  0 10  0]\n",
      " [ 0 68  2  0]]\n",
      "1    77\n",
      "2    72\n",
      "0    61\n",
      "dtype: int64\n"
     ]
    }
   ],
   "source": [
    "print(metrics.confusion_matrix(seeds_expected, seeds_predicted))\n",
    "print pd.Series(seeds_labels).value_counts()"
   ]
  },
  {
   "cell_type": "code",
   "execution_count": 271,
   "metadata": {
    "collapsed": false
   },
   "outputs": [
    {
     "name": "stdout",
     "output_type": "stream",
     "text": [
      "the percentage of correctly classified labels: 0.895238095238\n"
     ]
    }
   ],
   "source": [
    "print \"the percentage of correctly classified labels: {}\".format((60 + 60 + 68) / 210.0)"
   ]
  },
  {
   "cell_type": "markdown",
   "metadata": {},
   "source": [
    "### Expectation Maximization"
   ]
  },
  {
   "cell_type": "code",
   "execution_count": 272,
   "metadata": {
    "collapsed": false
   },
   "outputs": [
    {
     "data": {
      "text/plain": [
       "GMM(covariance_type='tied', init_params='wmc', min_covar=0.001,\n",
       "  n_components=3, n_init=1, n_iter=100, params='wmc', random_state=None,\n",
       "  thresh=None, tol=0.001, verbose=0)"
      ]
     },
     "execution_count": 272,
     "metadata": {},
     "output_type": "execute_result"
    }
   ],
   "source": [
    "from sklearn import mixture\n",
    "\n",
    "gmm = mixture.GMM(n_components=3, covariance_type='tied')\n",
    "gmm.fit(seeds_data)"
   ]
  },
  {
   "cell_type": "code",
   "execution_count": 273,
   "metadata": {
    "collapsed": false
   },
   "outputs": [
    {
     "name": "stdout",
     "output_type": "stream",
     "text": [
      "[[ 0  0  0  0]\n",
      " [66  1  3  0]\n",
      " [ 1 69  0  0]\n",
      " [ 2  0 68  0]]\n"
     ]
    }
   ],
   "source": [
    "seeds_predicted = gmm.predict(seeds_data)\n",
    "print(metrics.confusion_matrix(seeds_expected, seeds_predicted))"
   ]
  },
  {
   "cell_type": "code",
   "execution_count": 274,
   "metadata": {
    "collapsed": false
   },
   "outputs": [],
   "source": [
    "gmm.score(seeds_data);"
   ]
  },
  {
   "cell_type": "code",
   "execution_count": 275,
   "metadata": {
    "collapsed": false
   },
   "outputs": [
    {
     "data": {
      "text/plain": [
       "0.9026431589942381"
      ]
     },
     "execution_count": 275,
     "metadata": {},
     "output_type": "execute_result"
    }
   ],
   "source": [
    "adjusted_rand_score(seeds_predicted, seeds_expected)"
   ]
  },
  {
   "cell_type": "code",
   "execution_count": 258,
   "metadata": {
    "collapsed": false
   },
   "outputs": [
    {
     "name": "stdout",
     "output_type": "stream",
     "text": [
      "the percentage of correctly classified labels: 0.966666666667\n"
     ]
    }
   ],
   "source": [
    "print \"the percentage of correctly classified labels: {}\".format((66 + 69 + 68) / 210.0)"
   ]
  },
  {
   "cell_type": "code",
   "execution_count": 170,
   "metadata": {
    "collapsed": true
   },
   "outputs": [],
   "source": [
    "lowest_bic = np.infty\n",
    "bic = []\n",
    "n_components_range = range(1, 7)\n",
    "cv_types = ['spherical', 'tied', 'diag', 'full']\n",
    "for cv_type in cv_types:\n",
    "    for n_components in n_components_range:\n",
    "        # Fit a mixture of Gaussians with EM\n",
    "        gmm = mixture.GMM(n_components=n_components, covariance_type=cv_type)\n",
    "        gmm.fit(seeds_data)\n",
    "        bic.append(gmm.bic(seeds_data))\n",
    "        if bic[-1] < lowest_bic:\n",
    "            lowest_bic = bic[-1]\n",
    "            best_gmm = gmm"
   ]
  },
  {
   "cell_type": "code",
   "execution_count": 173,
   "metadata": {
    "collapsed": false
   },
   "outputs": [
    {
     "data": {
      "text/plain": [
       "GMM(covariance_type='tied', init_params='wmc', min_covar=0.001,\n",
       "  n_components=4, n_init=1, n_iter=100, params='wmc', random_state=None,\n",
       "  thresh=None, tol=0.001, verbose=0)"
      ]
     },
     "execution_count": 173,
     "metadata": {},
     "output_type": "execute_result"
    }
   ],
   "source": [
    "best_gmm"
   ]
  },
  {
   "cell_type": "markdown",
   "metadata": {},
   "source": [
    "## 2. Apply the dimensionality reduction algorithms to the two datasets and describe what you see."
   ]
  },
  {
   "cell_type": "markdown",
   "metadata": {},
   "source": [
    "### PCA model "
   ]
  },
  {
   "cell_type": "code",
   "execution_count": 68,
   "metadata": {
    "collapsed": true
   },
   "outputs": [],
   "source": [
    "from sklearn.decomposition import PCA"
   ]
  },
  {
   "cell_type": "code",
   "execution_count": 248,
   "metadata": {
    "collapsed": false
   },
   "outputs": [
    {
     "data": {
      "image/png": "[encoded data removed]",
      "text/plain": [
       "<matplotlib.figure.Figure at 0x10b8dea10>"
      ]
     },
     "metadata": {},
     "output_type": "display_data"
    }
   ],
   "source": [
    "#If we chose first two componen, we can see both first two components seperate the clusters pretty well\n",
    "#Create a PCA model.\n",
    "pca_2 = PCA(2)\n",
    "# Fit the PCA model on the numeric columns from earlier.\n",
    "plot_columns = pca_2.fit_transform(seeds_data)\n",
    "# Make a scatter plot of each game, shaded according to cluster assignment.\n",
    "plt.scatter(x=plot_columns[:,0], y=plot_columns[:,1], c=seeds_labels)\n",
    "plt.legend(seeds_labels, loc = 'best')\n",
    "plt.title(\"labels on first 2 components\")\n",
    "# Show the plot.\n",
    "plt.show()"
   ]
  },
  {
   "cell_type": "code",
   "execution_count": 265,
   "metadata": {
    "collapsed": false
   },
   "outputs": [
    {
     "data": {
      "text/plain": [
       "(210, 2)"
      ]
     },
     "execution_count": 265,
     "metadata": {},
     "output_type": "execute_result"
    }
   ],
   "source": [
    "pca = PCA(n_components = 2)\n",
    "pca.fit(seeds_data)\n",
    "fitted_data_pca = pca.fit_transform(seeds_data)\n",
    "fitted_data_pca.shape"
   ]
  },
  {
   "cell_type": "code",
   "execution_count": 115,
   "metadata": {
    "collapsed": false
   },
   "outputs": [
    {
     "name": "stdout",
     "output_type": "stream",
     "text": [
      "[  8.29385197e-01   1.63632452e-01   5.65790880e-03   9.90306086e-04\n",
      "   2.11180347e-04   1.20677139e-04   2.27879552e-06]\n"
     ]
    }
   ],
   "source": [
    "\n",
    "pca = PCA(n_components = 7)\n",
    "pca.fit(seeds_data)\n",
    "print pca.explained_variance_ratio_\n",
    "variance_explained = pca.explained_variance_ratio_\n",
    "variance_explained = pd.Series(variance_explained)"
   ]
  },
  {
   "cell_type": "code",
   "execution_count": 137,
   "metadata": {
    "collapsed": false
   },
   "outputs": [
    {
     "data": {
      "text/plain": [
       "<matplotlib.text.Text at 0x11f019150>"
      ]
     },
     "execution_count": 137,
     "metadata": {},
     "output_type": "execute_result"
    },
    {
     "data": {
      "image/png": "[encoded data removed]",
      "text/plain": [
       "<matplotlib.figure.Figure at 0x11ee1b750>"
      ]
     },
     "metadata": {},
     "output_type": "display_data"
    }
   ],
   "source": [
    "components = pd.Series(range(1, 8))\n",
    "ve =pd.Series(variance_explained.cumsum(), index=pd.Series(range(1, 8)))\n",
    "ve.plot()\n",
    "plt.title(\"variance explained by number of components\")"
   ]
  },
  {
   "cell_type": "markdown",
   "metadata": {},
   "source": [
    "### ICA"
   ]
  },
  {
   "cell_type": "code",
   "execution_count": 141,
   "metadata": {
    "collapsed": false
   },
   "outputs": [],
   "source": [
    "from sklearn.decomposition import FastICA\n",
    "from scipy.stats import kurtosis\n",
    "\n"
   ]
  },
  {
   "cell_type": "code",
   "execution_count": 142,
   "metadata": {
    "collapsed": false
   },
   "outputs": [
    {
     "name": "stdout",
     "output_type": "stream",
     "text": [
      "{'fun_args': None, 'algorithm': 'parallel', 'max_iter': 200, 'random_state': None, 'n_components': 3, 'tol': 0.0001, 'fun': 'logcosh', 'w_init': None, 'whiten': True}\n"
     ]
    }
   ],
   "source": [
    "ica = FastICA(n_components = 3, whiten = True)\n",
    "ica.fit(seeds_data)\n",
    "print ica.get_params()"
   ]
  },
  {
   "cell_type": "code",
   "execution_count": 182,
   "metadata": {
    "collapsed": false
   },
   "outputs": [
    {
     "name": "stdout",
     "output_type": "stream",
     "text": [
      "{'fun_args': None, 'algorithm': 'parallel', 'max_iter': 200, 'random_state': None, 'n_components': None, 'tol': 0.0001, 'fun': 'logcosh', 'w_init': None, 'whiten': True}\n"
     ]
    },
    {
     "name": "stderr",
     "output_type": "stream",
     "text": [
      "/Applications/anaconda/lib/python2.7/site-packages/sklearn/decomposition/fastica_.py:116: UserWarning: FastICA did not converge. Consider increasing tolerance or the maximum number of iterations.\n",
      "  warnings.warn('FastICA did not converge. Consider increasing '\n"
     ]
    }
   ],
   "source": [
    "ica = FastICA(n_components = None, whiten = True)\n",
    "ica.fit(seeds_data)\n",
    "print ica.get_params()"
   ]
  },
  {
   "cell_type": "code",
   "execution_count": 144,
   "metadata": {
    "collapsed": false
   },
   "outputs": [
    {
     "data": {
      "text/plain": [
       "array([-0.44426541,  0.88763699, -1.14058577])"
      ]
     },
     "execution_count": 144,
     "metadata": {},
     "output_type": "execute_result"
    }
   ],
   "source": [
    "output = ica.fit_transform(seeds_data)\n",
    "kurt = kurtosis(output)\n",
    "kurt"
   ]
  },
  {
   "cell_type": "code",
   "execution_count": 197,
   "metadata": {
    "collapsed": false
   },
   "outputs": [
    {
     "data": {
      "text/plain": [
       "(210, 7)"
      ]
     },
     "execution_count": 197,
     "metadata": {},
     "output_type": "execute_result"
    }
   ],
   "source": [
    "ica = FastICA(whiten = True)\n",
    "fitted_data_ica = ica.fit_transform(seeds_data)\n",
    "fitted_data_ica.shape"
   ]
  },
  {
   "cell_type": "code",
   "execution_count": 249,
   "metadata": {
    "collapsed": false
   },
   "outputs": [
    {
     "data": {
      "text/plain": [
       "<matplotlib.text.Text at 0x10c92cd10>"
      ]
     },
     "execution_count": 249,
     "metadata": {},
     "output_type": "execute_result"
    },
    {
     "data": {
      "image/png": "[encoded data removed]",
      "text/plain": [
       "<matplotlib.figure.Figure at 0x10bdc9610>"
      ]
     },
     "metadata": {},
     "output_type": "display_data"
    }
   ],
   "source": [
    "kurt_score = []\n",
    "for i in range(1, 8):\n",
    "    \n",
    "    ica = FastICA(n_components = i, whiten = True)\n",
    "    fitted_data_ica = ica.fit_transform(seeds_data)\n",
    "    kurt = kurtosis(fitted_data_ica)\n",
    "    kurt_score.append(np.sum(kurt))\n",
    "    #print 'i: {}, total_kurtosis: {}'.format(i, np.sum(kurt))\n",
    "    \n",
    "kurt_score = pd.Series(kurt_score, index=pd.Series(range(1, 8)))\n",
    "kurt_score.plot()\n",
    "plt.title(\"total kurtosis\")"
   ]
  },
  {
   "cell_type": "markdown",
   "metadata": {},
   "source": [
    "### Random Projection"
   ]
  },
  {
   "cell_type": "code",
   "execution_count": 191,
   "metadata": {
    "collapsed": false
   },
   "outputs": [],
   "source": [
    "from sklearn import random_projection\n",
    "\n"
   ]
  },
  {
   "cell_type": "code",
   "execution_count": 261,
   "metadata": {
    "collapsed": false
   },
   "outputs": [
    {
     "name": "stdout",
     "output_type": "stream",
     "text": [
      "eps: 0.01, value error\n",
      "eps: 0.118888888889, value error\n",
      "eps: 0.227777777778, value error\n",
      "eps: 0.336666666667, value error\n",
      "eps: 0.445555555556, value error\n",
      "eps: 0.554444444444, value error\n",
      "eps: 0.663333333333, value error\n",
      "eps: 0.772222222222, value error\n",
      "eps: 0.881111111111, value error\n",
      "eps: 0.99, value error\n"
     ]
    }
   ],
   "source": [
    "eps_range = np.linspace(0.01, 0.99, 10)\n",
    "for i in eps_range:\n",
    "    try:\n",
    "        rp = random_projection.GaussianRandomProjection(eps = i)\n",
    "        fitted_data_rp =rp.fit_transform(seeds_data)\n",
    "        print \"eps: {}, the features after reduced dimension: {}\".format(i, fitted_data_rp)\n",
    "    except ValueError:\n",
    "        print 'eps: {}, value error'.format(i)\n"
   ]
  },
  {
   "cell_type": "code",
   "execution_count": 193,
   "metadata": {
    "collapsed": false
   },
   "outputs": [
    {
     "name": "stdout",
     "output_type": "stream",
     "text": [
      "eps: 0.01, value error\n",
      "eps: 0.118888888889, value error\n",
      "eps: 0.227777777778, value error\n",
      "eps: 0.336666666667, value error\n",
      "eps: 0.445555555556, value error\n",
      "eps: 0.554444444444, value error\n",
      "eps: 0.663333333333, value error\n",
      "eps: 0.772222222222, value error\n",
      "eps: 0.881111111111, value error\n",
      "eps: 0.99, value error\n"
     ]
    }
   ],
   "source": [
    "from sklearn import random_projection\n",
    "eps_range = np.linspace(0.01, 0.99, 10)\n",
    "for i in eps_range:\n",
    "    try:\n",
    "        rp = random_projection.SparseRandomProjection(eps = i)\n",
    "        fitted_data_rp =rp.fit_transform(seeds_data)\n",
    "        print \"eps: {}, the features after reduced dimension: {}\".format(i, fitted_data_rp)\n",
    "    except ValueError:\n",
    "        print 'eps: {}, value error'.format(i)\n",
    "\n"
   ]
  },
  {
   "cell_type": "markdown",
   "metadata": {},
   "source": [
    "### Tree based model selection"
   ]
  },
  {
   "cell_type": "code",
   "execution_count": 198,
   "metadata": {
    "collapsed": false
   },
   "outputs": [
    {
     "data": {
      "text/plain": [
       "(210, 3)"
      ]
     },
     "execution_count": 198,
     "metadata": {},
     "output_type": "execute_result"
    }
   ],
   "source": [
    "from sklearn.ensemble import ExtraTreesClassifier\n",
    "from sklearn.feature_selection import SelectFromModel\n",
    "\n",
    "clf = ExtraTreesClassifier()\n",
    "clf = clf.fit(seeds_data, seeds_target)\n",
    "clf.feature_importances_  \n",
    "\n",
    "model = SelectFromModel(clf, prefit=True)\n",
    "fitted_data_tb = model.transform(seeds_data)\n",
    "fitted_data_tb.shape "
   ]
  },
  {
   "cell_type": "markdown",
   "metadata": {},
   "source": [
    "## 3. Reproduce your clustering experiments, but on the data after you've run dimensionality reduction on it."
   ]
  },
  {
   "cell_type": "markdown",
   "metadata": {},
   "source": [
    "### data -> PCA -> kmeans clustering"
   ]
  },
  {
   "cell_type": "markdown",
   "metadata": {},
   "source": [
    "transform data with PCA, then fit into kmeans "
   ]
  },
  {
   "cell_type": "code",
   "execution_count": 278,
   "metadata": {
    "collapsed": false
   },
   "outputs": [
    {
     "name": "stdout",
     "output_type": "stream",
     "text": [
      "             precision    recall  f1-score   support\n",
      "\n",
      "          0       0.00      0.00      0.00         0\n",
      "          1       0.12      0.13      0.12        70\n",
      "          2       0.14      0.14      0.14        70\n",
      "          3       0.00      0.00      0.00        70\n",
      "\n",
      "avg / total       0.09      0.09      0.09       210\n",
      "\n",
      "adjusted rand score: 0.7166\n"
     ]
    }
   ],
   "source": [
    "kmeans_model.fit(fitted_data_pca)\n",
    "#labels = kmeans_model.labels_\n",
    "\n",
    "expected = target\n",
    "predicted_pca = kmeans_model.predict(fitted_data_pca)\n",
    "print(metrics.classification_report(expected, predicted_pca))\n",
    "\n",
    "print \"adjusted rand score: {}\".format(round(adjusted_rand_score(expected, predicted_pca), 4))\n"
   ]
  },
  {
   "cell_type": "code",
   "execution_count": 279,
   "metadata": {
    "collapsed": false
   },
   "outputs": [
    {
     "name": "stdout",
     "output_type": "stream",
     "text": [
      "[[ 0  0  0  0]\n",
      " [ 1  9 60  0]\n",
      " [60  0 10  0]\n",
      " [ 0 68  2  0]]\n"
     ]
    }
   ],
   "source": [
    "print(metrics.confusion_matrix(seeds_expected, predicted_pca))\n"
   ]
  },
  {
   "cell_type": "code",
   "execution_count": 280,
   "metadata": {
    "collapsed": false
   },
   "outputs": [
    {
     "name": "stdout",
     "output_type": "stream",
     "text": [
      "the percentage of correctly classified labels: 0.895238095238\n"
     ]
    }
   ],
   "source": [
    "print \"the percentage of correctly classified labels: {}\".format((60 + 60 + 68) / 210.0)"
   ]
  },
  {
   "cell_type": "markdown",
   "metadata": {},
   "source": [
    "### data -> ICA -> kmeans clustering"
   ]
  },
  {
   "cell_type": "code",
   "execution_count": 277,
   "metadata": {
    "collapsed": false
   },
   "outputs": [
    {
     "name": "stdout",
     "output_type": "stream",
     "text": [
      "             precision    recall  f1-score   support\n",
      "\n",
      "          0       0.00      0.00      0.00         0\n",
      "          1       0.01      0.01      0.01        70\n",
      "          2       0.00      0.00      0.00        70\n",
      "          3       0.00      0.00      0.00        70\n",
      "\n",
      "avg / total       0.00      0.00      0.00       210\n",
      "\n",
      "adjusted rand score: 0.8778\n"
     ]
    }
   ],
   "source": [
    "#kmeans_model = KMeans(n_clusters=12, random_state=1)\n",
    "kmeans_model.fit(fitted_data_ica)\n",
    "#labels = kmeans_model.labels_\n",
    "\n",
    "expected = target\n",
    "predicted_ica = kmeans_model.predict(fitted_data_ica)\n",
    "print(metrics.classification_report(expected, predicted_ica))\n",
    "\n",
    "print \"adjusted rand score: {}\".format(round(adjusted_rand_score(expected, predicted_ica), 4))"
   ]
  },
  {
   "cell_type": "code",
   "execution_count": 281,
   "metadata": {
    "collapsed": false
   },
   "outputs": [
    {
     "name": "stdout",
     "output_type": "stream",
     "text": [
      "[[ 0  0  0  0]\n",
      " [ 2  1 67  0]\n",
      " [ 0 70  0  0]\n",
      " [64  0  6  0]]\n"
     ]
    }
   ],
   "source": [
    "print(metrics.confusion_matrix(seeds_expected, predicted_ica))\n"
   ]
  },
  {
   "cell_type": "code",
   "execution_count": 282,
   "metadata": {
    "collapsed": false
   },
   "outputs": [
    {
     "name": "stdout",
     "output_type": "stream",
     "text": [
      "the percentage of correctly classified labels: 0.957142857143\n"
     ]
    }
   ],
   "source": [
    "print \"the percentage of correctly classified labels: {}\".format((67 + 70 + 64) / 210.0)"
   ]
  },
  {
   "cell_type": "markdown",
   "metadata": {},
   "source": [
    "### data -> tree based feature selection -> kmeans clustering¶"
   ]
  },
  {
   "cell_type": "code",
   "execution_count": 203,
   "metadata": {
    "collapsed": false
   },
   "outputs": [
    {
     "name": "stdout",
     "output_type": "stream",
     "text": [
      "             precision    recall  f1-score   support\n",
      "\n",
      "          0       0.00      0.00      0.00         0\n",
      "          1       0.20      0.24      0.22        70\n",
      "          2       1.00      0.79      0.88        70\n",
      "          3       0.00      0.00      0.00        70\n",
      "\n",
      "avg / total       0.40      0.34      0.37       210\n",
      "\n",
      "adjusted rand score: 0.6211\n"
     ]
    }
   ],
   "source": [
    "#kmeans_model = KMeans(n_clusters=12, random_state=1)\n",
    "kmeans_model.fit(fitted_data_tb)\n",
    "#labels = kmeans_model.labels_\n",
    "\n",
    "expected = target\n",
    "predicted_tb = kmeans_model.predict(fitted_data_tb)\n",
    "print(metrics.classification_report(expected, predicted_tb))\n",
    "\n",
    "print \"adjusted rand score: {}\".format(round(adjusted_rand_score(expected, predicted_tb), 4))"
   ]
  },
  {
   "cell_type": "code",
   "execution_count": 283,
   "metadata": {
    "collapsed": false
   },
   "outputs": [
    {
     "name": "stdout",
     "output_type": "stream",
     "text": [
      "[[ 0  0  0  0]\n",
      " [53 17  0  0]\n",
      " [15  0 55  0]\n",
      " [ 0 70  0  0]]\n"
     ]
    }
   ],
   "source": [
    "print(metrics.confusion_matrix(seeds_expected, predicted_tb))"
   ]
  },
  {
   "cell_type": "code",
   "execution_count": 284,
   "metadata": {
    "collapsed": false
   },
   "outputs": [
    {
     "name": "stdout",
     "output_type": "stream",
     "text": [
      "the percentage of correctly classified labels: 0.847619047619\n"
     ]
    }
   ],
   "source": [
    "print \"the percentage of correctly classified labels: {}\".format((53 + 55 + 70) / 210.0)"
   ]
  },
  {
   "cell_type": "markdown",
   "metadata": {},
   "source": [
    "### data -> PCA -> Expectation Maximization clustering¶"
   ]
  },
  {
   "cell_type": "code",
   "execution_count": 205,
   "metadata": {
    "collapsed": false
   },
   "outputs": [
    {
     "name": "stdout",
     "output_type": "stream",
     "text": [
      "             precision    recall  f1-score   support\n",
      "\n",
      "          0       0.00      0.00      0.00         0\n",
      "          1       0.02      0.01      0.02        70\n",
      "          2       0.16      0.16      0.16        70\n",
      "          3       0.00      0.00      0.00        70\n",
      "\n",
      "avg / total       0.06      0.06      0.06       210\n",
      "\n",
      "adjusted rand score: 0.6996\n"
     ]
    }
   ],
   "source": [
    "gmm = mixture.GMM(n_components = 3, covariance_type=\"tied\")\n",
    "\n",
    "gmm.fit(fitted_data_pca)\n",
    "\n",
    "predicted_gmm_pca = gmm.predict(fitted_data_pca)\n",
    "print(metrics.classification_report(expected, predicted_gmm_pca))\n",
    "\n",
    "print \"adjusted rand score: {}\".format(round(adjusted_rand_score(expected, predicted_gmm_pca), 4))\n"
   ]
  },
  {
   "cell_type": "code",
   "execution_count": 285,
   "metadata": {
    "collapsed": false
   },
   "outputs": [
    {
     "name": "stdout",
     "output_type": "stream",
     "text": [
      "[[ 0  0  0  0]\n",
      " [12  1 57  0]\n",
      " [ 0 59 11  0]\n",
      " [70  0  0  0]]\n"
     ]
    }
   ],
   "source": [
    "print(metrics.confusion_matrix(seeds_expected, predicted_gmm_pca))"
   ]
  },
  {
   "cell_type": "code",
   "execution_count": 286,
   "metadata": {
    "collapsed": false
   },
   "outputs": [
    {
     "name": "stdout",
     "output_type": "stream",
     "text": [
      "the percentage of correctly classified labels: 0.885714285714\n"
     ]
    }
   ],
   "source": [
    "print \"the percentage of correctly classified labels: {}\".format((70 + 59 + 57) / 210.0)"
   ]
  },
  {
   "cell_type": "markdown",
   "metadata": {},
   "source": [
    "### data -> ICA -> Expectation Maximization clustering¶"
   ]
  },
  {
   "cell_type": "code",
   "execution_count": 206,
   "metadata": {
    "collapsed": false
   },
   "outputs": [
    {
     "name": "stdout",
     "output_type": "stream",
     "text": [
      "             precision    recall  f1-score   support\n",
      "\n",
      "          0       0.00      0.00      0.00         0\n",
      "          1       0.05      0.04      0.04        70\n",
      "          2       0.03      0.03      0.03        70\n",
      "          3       0.00      0.00      0.00        70\n",
      "\n",
      "avg / total       0.02      0.02      0.02       210\n",
      "\n",
      "adjusted rand score: 0.7997\n"
     ]
    }
   ],
   "source": [
    "gmm.fit(fitted_data_ica)\n",
    "\n",
    "predicted_gmm_ica = gmm.predict(fitted_data_ica)\n",
    "print(metrics.classification_report(expected, predicted_gmm_ica))\n",
    "\n",
    "print \"adjusted rand score: {}\".format(round(adjusted_rand_score(expected, predicted_gmm_ica), 4))\n"
   ]
  },
  {
   "cell_type": "code",
   "execution_count": 287,
   "metadata": {
    "collapsed": false
   },
   "outputs": [
    {
     "name": "stdout",
     "output_type": "stream",
     "text": [
      "[[ 0  0  0  0]\n",
      " [ 1  3 66  0]\n",
      " [68  0  2  0]\n",
      " [ 0 61  9  0]]\n"
     ]
    }
   ],
   "source": [
    "print(metrics.confusion_matrix(seeds_expected, predicted_gmm_ica))"
   ]
  },
  {
   "cell_type": "code",
   "execution_count": 288,
   "metadata": {
    "collapsed": false
   },
   "outputs": [
    {
     "name": "stdout",
     "output_type": "stream",
     "text": [
      "the percentage of correctly classified labels: 0.928571428571\n"
     ]
    }
   ],
   "source": [
    "print \"the percentage of correctly classified labels: {}\".format((68 + 61 + 66) / 210.0)"
   ]
  },
  {
   "cell_type": "markdown",
   "metadata": {},
   "source": [
    "### data -> tree based feature selection -> Expectation Maximization clustering"
   ]
  },
  {
   "cell_type": "code",
   "execution_count": 210,
   "metadata": {
    "collapsed": false
   },
   "outputs": [
    {
     "name": "stdout",
     "output_type": "stream",
     "text": [
      "             precision    recall  f1-score   support\n",
      "\n",
      "          0       0.00      0.00      0.00         0\n",
      "          1       0.07      0.07      0.07        70\n",
      "          2       0.03      0.03      0.03        70\n",
      "          3       0.00      0.00      0.00        70\n",
      "\n",
      "avg / total       0.03      0.03      0.03       210\n",
      "\n",
      "adjusted rand score: 0.8633\n"
     ]
    }
   ],
   "source": [
    "gmm.fit(fitted_data_tb)\n",
    "\n",
    "predicted_gmm_tb = gmm.predict(fitted_data_tb)\n",
    "print(metrics.classification_report(expected, predicted_gmm_tb))\n",
    "\n",
    "print \"adjusted rand score: {}\".format(round(adjusted_rand_score(expected, predicted_gmm_tb), 4))\n"
   ]
  },
  {
   "cell_type": "code",
   "execution_count": 289,
   "metadata": {
    "collapsed": false
   },
   "outputs": [
    {
     "name": "stdout",
     "output_type": "stream",
     "text": [
      "[[ 0  0  0  0]\n",
      " [ 2  5 63  0]\n",
      " [68  0  2  0]\n",
      " [ 0 69  1  0]]\n"
     ]
    }
   ],
   "source": [
    "print(metrics.confusion_matrix(seeds_expected, predicted_gmm_tb))"
   ]
  },
  {
   "cell_type": "code",
   "execution_count": 290,
   "metadata": {
    "collapsed": false
   },
   "outputs": [
    {
     "name": "stdout",
     "output_type": "stream",
     "text": [
      "the percentage of correctly classified labels: 0.952380952381\n"
     ]
    }
   ],
   "source": [
    "print \"the percentage of correctly classified labels: {}\".format((68 + 69 + 63) / 210.0)"
   ]
  },
  {
   "cell_type": "markdown",
   "metadata": {},
   "source": [
    "** adjusted rand score for different algorithms ** \n",
    "\n",
    "\n",
    "| algo | Kmeans |   EM      |\n",
    "|------|--------|-----------|\n",
    "|Base| 0.7166|0.8296|\n",
    "|PCA| 0.7166|0.6996|\n",
    "|ICA| 0.8778|0.7997|\n",
    "|TREE|0.6211|0.8633|\n",
    "\n"
   ]
  },
  {
   "cell_type": "code",
   "execution_count": 291,
   "metadata": {
    "collapsed": false
   },
   "outputs": [
    {
     "data": {
      "text/plain": [
       "u'/Users/craiglab/Documents/ml/Assignment3'"
      ]
     },
     "execution_count": 291,
     "metadata": {},
     "output_type": "execute_result"
    }
   ],
   "source": [
    "pwd"
   ]
  },
  {
   "cell_type": "code",
   "execution_count": null,
   "metadata": {
    "collapsed": true
   },
   "outputs": [],
   "source": []
  }
 ],
 "metadata": {
  "kernelspec": {
   "display_name": "Python 2",
   "language": "python",
   "name": "python2"
  },
  "language_info": {
   "codemirror_mode": {
    "name": "ipython",
    "version": 2
   },
   "file_extension": ".py",
   "mimetype": "text/x-python",
   "name": "python",
   "nbconvert_exporter": "python",
   "pygments_lexer": "ipython2",
   "version": "2.7.11"
  }
 },
 "nbformat": 4,
 "nbformat_minor": 0
}
