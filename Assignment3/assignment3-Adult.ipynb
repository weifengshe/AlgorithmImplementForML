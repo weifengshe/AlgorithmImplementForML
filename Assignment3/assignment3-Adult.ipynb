{
 "cells": [
  {
   "cell_type": "code",
   "execution_count": 2,
   "metadata": {
    "collapsed": false
   },
   "outputs": [],
   "source": [
    "%matplotlib inline\n",
    "import numpy as np\n",
    "import pandas as pd\n",
    "import matplotlib.pyplot as plt\n",
    "import seaborn as sns\n",
    "from sklearn.cross_validation import train_test_split"
   ]
  },
  {
   "cell_type": "markdown",
   "metadata": {},
   "source": [
    "## Data Read In and Preprocessing "
   ]
  },
  {
   "cell_type": "code",
   "execution_count": 171,
   "metadata": {
    "collapsed": false
   },
   "outputs": [],
   "source": [
    "adult_temp = pd.read_csv(\"/Users/craiglab/Documents/ml/adult.data\",\n",
    "                        header= None, na_values= ['nan'])\n"
   ]
  },
  {
   "cell_type": "code",
   "execution_count": 172,
   "metadata": {
    "collapsed": false
   },
   "outputs": [],
   "source": [
    "adult = adult_temp.rename(columns={0: 'age', \n",
    "                                    1: 'workclass',\n",
    "                                    2: 'fnlwgt',\n",
    "                                    3: 'education',\n",
    "                                    4: 'education-num',\n",
    "                                    5: 'marital-status',\n",
    "                                    6: 'occupation',\n",
    "                                    7: 'relationship',\n",
    "                                    8: 'race',\n",
    "                                    9: 'sex',\n",
    "                                    10: 'capital-gain',\n",
    "                                    11: 'capital-loss',\n",
    "                                  12: 'hours-per-week',\n",
    "                                  13:'native-country',\n",
    "                                  14:'above_50'})\n",
    "      "
   ]
  },
  {
   "cell_type": "code",
   "execution_count": 173,
   "metadata": {
    "collapsed": true
   },
   "outputs": [],
   "source": [
    "# normalize dataset numeric attributes\n",
    "for x in ['age', 'fnlwgt', 'education-num', 'capital-gain', 'capital-loss', 'hours-per-week']:\n",
    "    adult[x] = (adult[x] - adult[x].mean()) / adult[x].std()\n"
   ]
  },
  {
   "cell_type": "code",
   "execution_count": 174,
   "metadata": {
    "collapsed": true
   },
   "outputs": [],
   "source": [
    "adult.drop(['education'], axis = 1, inplace = True)"
   ]
  },
  {
   "cell_type": "code",
   "execution_count": 175,
   "metadata": {
    "collapsed": false
   },
   "outputs": [
    {
     "data": {
      "text/plain": [
       "Index([u'age', u'workclass', u'fnlwgt', u'education-num', u'marital-status',\n",
       "       u'occupation', u'relationship', u'race', u'sex', u'capital-gain',\n",
       "       u'capital-loss', u'hours-per-week', u'native-country', u'above_50'],\n",
       "      dtype='object')"
      ]
     },
     "execution_count": 175,
     "metadata": {},
     "output_type": "execute_result"
    }
   ],
   "source": [
    "adult.columns"
   ]
  },
  {
   "cell_type": "code",
   "execution_count": 176,
   "metadata": {
    "collapsed": false
   },
   "outputs": [
    {
     "data": {
      "text/plain": [
       "(32561, 14)"
      ]
     },
     "execution_count": 176,
     "metadata": {},
     "output_type": "execute_result"
    }
   ],
   "source": [
    "adult.shape"
   ]
  },
  {
   "cell_type": "code",
   "execution_count": 177,
   "metadata": {
    "collapsed": true
   },
   "outputs": [],
   "source": [
    "adult = pd.get_dummies(adult)"
   ]
  },
  {
   "cell_type": "code",
   "execution_count": 178,
   "metadata": {
    "collapsed": false
   },
   "outputs": [
    {
     "name": "stdout",
     "output_type": "stream",
     "text": [
      "(32561, 94)\n"
     ]
    }
   ],
   "source": [
    "print adult.shape"
   ]
  },
  {
   "cell_type": "code",
   "execution_count": 179,
   "metadata": {
    "collapsed": false
   },
   "outputs": [
    {
     "name": "stdout",
     "output_type": "stream",
     "text": [
      "Index([u'age', u'fnlwgt', u'education-num', u'capital-gain', u'capital-loss',\n",
      "       u'hours-per-week', u'workclass_ ?', u'workclass_ Federal-gov',\n",
      "       u'workclass_ Local-gov', u'workclass_ Never-worked',\n",
      "       u'workclass_ Private', u'workclass_ Self-emp-inc',\n",
      "       u'workclass_ Self-emp-not-inc', u'workclass_ State-gov',\n",
      "       u'workclass_ Without-pay', u'marital-status_ Divorced',\n",
      "       u'marital-status_ Married-AF-spouse',\n",
      "       u'marital-status_ Married-civ-spouse',\n",
      "       u'marital-status_ Married-spouse-absent',\n",
      "       u'marital-status_ Never-married', u'marital-status_ Separated',\n",
      "       u'marital-status_ Widowed', u'occupation_ ?',\n",
      "       u'occupation_ Adm-clerical', u'occupation_ Armed-Forces',\n",
      "       u'occupation_ Craft-repair', u'occupation_ Exec-managerial',\n",
      "       u'occupation_ Farming-fishing', u'occupation_ Handlers-cleaners',\n",
      "       u'occupation_ Machine-op-inspct', u'occupation_ Other-service',\n",
      "       u'occupation_ Priv-house-serv', u'occupation_ Prof-specialty',\n",
      "       u'occupation_ Protective-serv', u'occupation_ Sales',\n",
      "       u'occupation_ Tech-support', u'occupation_ Transport-moving',\n",
      "       u'relationship_ Husband', u'relationship_ Not-in-family',\n",
      "       u'relationship_ Other-relative', u'relationship_ Own-child',\n",
      "       u'relationship_ Unmarried', u'relationship_ Wife',\n",
      "       u'race_ Amer-Indian-Eskimo', u'race_ Asian-Pac-Islander',\n",
      "       u'race_ Black', u'race_ Other', u'race_ White', u'sex_ Female',\n",
      "       u'sex_ Male', u'native-country_ ?', u'native-country_ Cambodia',\n",
      "       u'native-country_ Canada', u'native-country_ China',\n",
      "       u'native-country_ Columbia', u'native-country_ Cuba',\n",
      "       u'native-country_ Dominican-Republic', u'native-country_ Ecuador',\n",
      "       u'native-country_ El-Salvador', u'native-country_ England',\n",
      "       u'native-country_ France', u'native-country_ Germany',\n",
      "       u'native-country_ Greece', u'native-country_ Guatemala',\n",
      "       u'native-country_ Haiti', u'native-country_ Holand-Netherlands',\n",
      "       u'native-country_ Honduras', u'native-country_ Hong',\n",
      "       u'native-country_ Hungary', u'native-country_ India',\n",
      "       u'native-country_ Iran', u'native-country_ Ireland',\n",
      "       u'native-country_ Italy', u'native-country_ Jamaica',\n",
      "       u'native-country_ Japan', u'native-country_ Laos',\n",
      "       u'native-country_ Mexico', u'native-country_ Nicaragua',\n",
      "       u'native-country_ Outlying-US(Guam-USVI-etc)', u'native-country_ Peru',\n",
      "       u'native-country_ Philippines', u'native-country_ Poland',\n",
      "       u'native-country_ Portugal', u'native-country_ Puerto-Rico',\n",
      "       u'native-country_ Scotland', u'native-country_ South',\n",
      "       u'native-country_ Taiwan', u'native-country_ Thailand',\n",
      "       u'native-country_ Trinadad&Tobago', u'native-country_ United-States',\n",
      "       u'native-country_ Vietnam', u'native-country_ Yugoslavia',\n",
      "       u'above_50_ <=50K', u'above_50_ >50K'],\n",
      "      dtype='object')\n"
     ]
    }
   ],
   "source": [
    "print adult.columns"
   ]
  },
  {
   "cell_type": "code",
   "execution_count": 180,
   "metadata": {
    "collapsed": false
   },
   "outputs": [],
   "source": [
    "#x = adult\n",
    "\n",
    "#df.drop(df.columns[[1, 69]], axis=1, inplace=True)\n",
    "#df.drop('reports', axis=1)\n",
    "#\n",
    "#x.columns\n",
    "adult.drop(['workclass_ ?', \n",
    "       'marital-status_ Divorced',\n",
    "       'occupation_ ?',\n",
    "       'relationship_ Husband',\n",
    "       'race_ Amer-Indian-Eskimo',\n",
    "       'sex_ Female',\n",
    "       'native-country_ ?',\n",
    "       'above_50_ <=50K'], axis =1, inplace = True)\n",
    "\n"
   ]
  },
  {
   "cell_type": "code",
   "execution_count": 181,
   "metadata": {
    "collapsed": true
   },
   "outputs": [],
   "source": [
    "#split adult data\n",
    "X_adult = adult.iloc[:, 0:-1]\n",
    "Y_adult = adult.iloc[:, -1]\n",
    "#print X_train_adult.shape\n",
    "#print X_test_adult.shape\n",
    "#print Y_train_adult.shape\n",
    "#print Y_test_adult.shape\n",
    "X_train_adult, X_test_adult, Y_train_adult, Y_test_adult = train_test_split(X_adult, Y_adult)"
   ]
  },
  {
   "cell_type": "code",
   "execution_count": 183,
   "metadata": {
    "collapsed": false
   },
   "outputs": [
    {
     "name": "stdout",
     "output_type": "stream",
     "text": [
      "(32561, 85)\n",
      "(32561,)\n"
     ]
    }
   ],
   "source": [
    "print X_adult.shape\n",
    "print Y_adult.shape"
   ]
  },
  {
   "cell_type": "code",
   "execution_count": null,
   "metadata": {
    "collapsed": true
   },
   "outputs": [],
   "source": []
  },
  {
   "cell_type": "markdown",
   "metadata": {},
   "source": [
    "## Neural Network"
   ]
  },
  {
   "cell_type": "code",
   "execution_count": 27,
   "metadata": {
    "collapsed": true
   },
   "outputs": [],
   "source": [
    "from pybrain.datasets import ClassificationDataSet\n",
    "from pybrain.utilities import percentError\n",
    "from pybrain.tools.shortcuts import buildNetwork\n",
    "from pybrain.supervised.trainers import BackpropTrainer\n",
    "from pybrain.structure.modules import SoftmaxLayer"
   ]
  },
  {
   "cell_type": "code",
   "execution_count": 213,
   "metadata": {
    "collapsed": false
   },
   "outputs": [],
   "source": [
    "# since data size is too big, only keep 10% of data\n",
    "rows = X_adult.shape[0]\n",
    "idx = np.random.choice(range(rows), size = int(rows/10), replace=False);\n",
    "X_adult = np.array(X_adult)\n",
    "Y_adult = np.array(Y_adult)"
   ]
  },
  {
   "cell_type": "code",
   "execution_count": 214,
   "metadata": {
    "collapsed": false
   },
   "outputs": [],
   "source": [
    "data = X_adult[idx]\n",
    "target = np.array(Y_adult[idx])"
   ]
  },
  {
   "cell_type": "code",
   "execution_count": 215,
   "metadata": {
    "collapsed": false
   },
   "outputs": [
    {
     "name": "stdout",
     "output_type": "stream",
     "text": [
      "<type 'numpy.ndarray'>\n",
      "<type 'numpy.ndarray'>\n"
     ]
    }
   ],
   "source": [
    "print type(data)\n",
    "print type(target)"
   ]
  },
  {
   "cell_type": "code",
   "execution_count": 216,
   "metadata": {
    "collapsed": false
   },
   "outputs": [
    {
     "name": "stdout",
     "output_type": "stream",
     "text": [
      "(3256, 85)\n",
      "(3256,)\n"
     ]
    }
   ],
   "source": [
    "print data.shape\n",
    "print target.shape"
   ]
  },
  {
   "cell_type": "code",
   "execution_count": 217,
   "metadata": {
    "collapsed": true
   },
   "outputs": [],
   "source": [
    "ds_adult = ClassificationDataSet(85, 1, nb_classes = 2)\n",
    "for i in range(len(data)):\n",
    "    ds_adult.addSample(data[i], target[i])"
   ]
  },
  {
   "cell_type": "code",
   "execution_count": 218,
   "metadata": {
    "collapsed": true
   },
   "outputs": [],
   "source": [
    "# dimension of the input and target data which is 85, 1 and the number of classes as 2\n",
    "\n",
    "trndata_adult, tstdata_adult = ds_adult.splitWithProportion(0.750)\n",
    "\n",
    "# encode classes with one output neuron per class, since softmaxlayer activation function in output neuron which requires one neuron per output class\n",
    "trndata_adult._convertToOneOfMany()\n",
    "tstdata_adult._convertToOneOfMany()"
   ]
  },
  {
   "cell_type": "code",
   "execution_count": 219,
   "metadata": {
    "collapsed": true
   },
   "outputs": [],
   "source": [
    "fnn_adult = buildNetwork(85, 43, 2, outclass= SoftmaxLayer)\n",
    "     \n",
    "tr_adult = BackpropTrainer(fnn_adult, dataset = trndata_adult, momentum = 0.1, verbose = False, weightdecay = 0.01)\n",
    "    "
   ]
  },
  {
   "cell_type": "code",
   "execution_count": 220,
   "metadata": {
    "collapsed": false
   },
   "outputs": [
    {
     "name": "stdout",
     "output_type": "stream",
     "text": [
      "train accuracy:  15.9705159705\n",
      "test accuracy:  15.1105651106\n"
     ]
    }
   ],
   "source": [
    "tr_adult.trainOnDataset(trndata_adult, epochs = 2)\n",
    "\n",
    "#predict train dataset\n",
    "train_predicted = fnn_adult.activateOnDataset(trndata_adult).argmax(axis = 1)\n",
    "\n",
    "train_accur_score = percentError(train_predicted, trndata_adult['class'])\n",
    "\n",
    "print \"train accuracy: \", train_accur_score\n",
    "\n",
    "# predict test dataset\n",
    "tst_predicted = fnn_adult.activateOnDataset(tstdata_adult).argmax(axis = 1)\n",
    "\n",
    "test_accur_score = percentError(tst_predicted, tstdata_adult['class'])\n",
    "\n",
    "print \"test accuracy: \", test_accur_score"
   ]
  },
  {
   "cell_type": "markdown",
   "metadata": {},
   "source": [
    "## 1. Run the clustering algorithms on the data sets and describe what you see."
   ]
  },
  {
   "cell_type": "markdown",
   "metadata": {},
   "source": [
    "### K-means clustering"
   ]
  },
  {
   "cell_type": "code",
   "execution_count": 43,
   "metadata": {
    "collapsed": true
   },
   "outputs": [],
   "source": [
    "from sklearn.cluster import KMeans\n",
    "from sklearn import metrics"
   ]
  },
  {
   "cell_type": "code",
   "execution_count": 72,
   "metadata": {
    "collapsed": false
   },
   "outputs": [
    {
     "name": "stdout",
     "output_type": "stream",
     "text": [
      "number of samples: 3256, number of feature 85\n",
      "\n",
      "number of class: 2\n"
     ]
    }
   ],
   "source": [
    "n_samples, n_features =data.shape\n",
    "print \"number of samples: {}, number of feature {}\".format(n_samples, n_features)\n",
    "n_types = len(np.unique(target))\n",
    "print\n",
    "print \"number of class: {}\".format(n_types)"
   ]
  },
  {
   "cell_type": "code",
   "execution_count": 312,
   "metadata": {
    "collapsed": false
   },
   "outputs": [
    {
     "data": {
      "text/plain": [
       "<matplotlib.text.Text at 0x10c804c50>"
      ]
     },
     "execution_count": 312,
     "metadata": {},
     "output_type": "execute_result"
    },
    {
     "data": {
      "image/png": "[encoded data removed]",
      "text/plain": [
       "<matplotlib.figure.Figure at 0x10af70ed0>"
      ]
     },
     "metadata": {},
     "output_type": "display_data"
    }
   ],
   "source": [
    "# use \"elbow method\" to find the best k\n",
    "# kmeans score returns the opposite of the sum of inter-cluster distances, the sum of inter-cluster distances is what k-means tries to minimize\n",
    "scores = []\n",
    "for i in range(3, 30):\n",
    "    kmeans_model = KMeans(n_clusters=i, random_state=1)\n",
    "    kmeans_model.fit(data)\n",
    "    score = kmeans_model.score(data)\n",
    "    scores.append(score)\n",
    "    \n",
    "    \n",
    "#graph scores\n",
    "pd.Series(scores, index = pd.Series(range(3,30))).plot()\n",
    "plt.title(\"elbow method used to find the best k\")\n",
    "\n"
   ]
  },
  {
   "cell_type": "code",
   "execution_count": 313,
   "metadata": {
    "collapsed": false
   },
   "outputs": [
    {
     "name": "stdout",
     "output_type": "stream",
     "text": [
      "             precision    recall  f1-score   support\n",
      "\n",
      "        0.0       0.76      0.96      0.85      2458\n",
      "        1.0       0.26      0.05      0.08       798\n",
      "\n",
      "avg / total       0.64      0.74      0.66      3256\n",
      "\n"
     ]
    }
   ],
   "source": [
    "kmeans_model = KMeans(n_clusters=2, random_state=1)\n",
    "kmeans_model.fit(data)\n",
    "labels = kmeans_model.labels_\n",
    "\n",
    "expected = target\n",
    "predicted = kmeans_model.predict(data)\n",
    "print(metrics.classification_report(expected, predicted))\n"
   ]
  },
  {
   "cell_type": "code",
   "execution_count": 314,
   "metadata": {
    "collapsed": false
   },
   "outputs": [
    {
     "data": {
      "text/plain": [
       "0.0039"
      ]
     },
     "execution_count": 314,
     "metadata": {},
     "output_type": "execute_result"
    }
   ],
   "source": [
    "from sklearn.metrics.cluster import adjusted_rand_score\n",
    "round(adjusted_rand_score(predicted, expected), 4)"
   ]
  },
  {
   "cell_type": "code",
   "execution_count": 315,
   "metadata": {
    "collapsed": false
   },
   "outputs": [
    {
     "name": "stdout",
     "output_type": "stream",
     "text": [
      "[[2358  100]\n",
      " [ 762   36]]\n"
     ]
    }
   ],
   "source": [
    "print(metrics.confusion_matrix(expected, predicted))"
   ]
  },
  {
   "cell_type": "code",
   "execution_count": 316,
   "metadata": {
    "collapsed": false
   },
   "outputs": [
    {
     "name": "stdout",
     "output_type": "stream",
     "text": [
      "the percentage of correctly classified labels: 0.735257985258\n"
     ]
    }
   ],
   "source": [
    "print \"the percentage of correctly classified labels: {}\".format((2358 + 36) / (2411.0 + 68 +68 + 709))"
   ]
  },
  {
   "cell_type": "markdown",
   "metadata": {},
   "source": [
    "### Expectation Maximization"
   ]
  },
  {
   "cell_type": "code",
   "execution_count": 320,
   "metadata": {
    "collapsed": false
   },
   "outputs": [
    {
     "data": {
      "text/plain": [
       "GMM(covariance_type='full', init_params='wmc', min_covar=0.001,\n",
       "  n_components=2, n_init=1, n_iter=100, params='wmc', random_state=None,\n",
       "  thresh=None, tol=0.001, verbose=0)"
      ]
     },
     "execution_count": 320,
     "metadata": {},
     "output_type": "execute_result"
    }
   ],
   "source": [
    "from sklearn import mixture\n",
    "\n",
    "gmm = mixture.GMM(n_components=2, covariance_type='full')\n",
    "gmm.fit(data)"
   ]
  },
  {
   "cell_type": "code",
   "execution_count": 321,
   "metadata": {
    "collapsed": false
   },
   "outputs": [
    {
     "name": "stdout",
     "output_type": "stream",
     "text": [
      "[[1998  460]\n",
      " [ 644  154]]\n"
     ]
    }
   ],
   "source": [
    "predicted = gmm.predict(data)\n",
    "print(metrics.confusion_matrix(expected, predicted));"
   ]
  },
  {
   "cell_type": "code",
   "execution_count": 322,
   "metadata": {
    "collapsed": false
   },
   "outputs": [
    {
     "data": {
      "text/plain": [
       "0.0029"
      ]
     },
     "execution_count": 322,
     "metadata": {},
     "output_type": "execute_result"
    }
   ],
   "source": [
    "round(adjusted_rand_score(predicted, expected), 4)"
   ]
  },
  {
   "cell_type": "code",
   "execution_count": 323,
   "metadata": {
    "collapsed": true
   },
   "outputs": [],
   "source": [
    "lowest_bic = np.infty\n",
    "bic = []\n",
    "n_components_range = range(1, 30)\n",
    "cv_types = ['spherical', 'tied', 'diag', 'full']\n",
    "for cv_type in cv_types:\n",
    "    for n_components in n_components_range:\n",
    "        # Fit a mixture of Gaussians with EM\n",
    "        gmm = mixture.GMM(n_components=n_components, covariance_type=cv_type)\n",
    "        gmm.fit(data)\n",
    "        bic.append(gmm.bic(data))\n",
    "        if bic[-1] < lowest_bic:\n",
    "            lowest_bic = bic[-1]\n",
    "            best_gmm = gmm"
   ]
  },
  {
   "cell_type": "code",
   "execution_count": 324,
   "metadata": {
    "collapsed": false
   },
   "outputs": [
    {
     "data": {
      "text/plain": [
       "GMM(covariance_type='diag', init_params='wmc', min_covar=0.001,\n",
       "  n_components=28, n_init=1, n_iter=100, params='wmc', random_state=None,\n",
       "  thresh=None, tol=0.001, verbose=0)"
      ]
     },
     "execution_count": 324,
     "metadata": {},
     "output_type": "execute_result"
    }
   ],
   "source": [
    "best_gmm"
   ]
  },
  {
   "cell_type": "code",
   "execution_count": 325,
   "metadata": {
    "collapsed": false
   },
   "outputs": [
    {
     "name": "stdout",
     "output_type": "stream",
     "text": [
      "             precision    recall  f1-score   support\n",
      "\n",
      "        0.0       0.76      0.96      0.84      2458\n",
      "        1.0       0.26      0.05      0.08       798\n",
      "\n",
      "avg / total       0.64      0.73      0.66      3256\n",
      "\n"
     ]
    }
   ],
   "source": [
    "gmm = mixture.GMM(n_components = 2, covariance_type='diag')\n",
    "gmm.fit(data)\n",
    "predicted = gmm.predict(data)\n",
    "print(metrics.classification_report(expected, predicted));\n"
   ]
  },
  {
   "cell_type": "code",
   "execution_count": 326,
   "metadata": {
    "collapsed": false
   },
   "outputs": [
    {
     "name": "stdout",
     "output_type": "stream",
     "text": [
      "0.0039\n"
     ]
    }
   ],
   "source": [
    "print round(adjusted_rand_score(expected, predicted), 4)"
   ]
  },
  {
   "cell_type": "code",
   "execution_count": 327,
   "metadata": {
    "collapsed": false
   },
   "outputs": [
    {
     "name": "stdout",
     "output_type": "stream",
     "text": [
      "[[2355  103]\n",
      " [ 761   37]]\n"
     ]
    }
   ],
   "source": [
    "\n",
    "print(metrics.confusion_matrix(expected, predicted));"
   ]
  },
  {
   "cell_type": "code",
   "execution_count": 328,
   "metadata": {
    "collapsed": false
   },
   "outputs": [
    {
     "name": "stdout",
     "output_type": "stream",
     "text": [
      "the percentage of correctly classified labels: 0.734643734644\n"
     ]
    }
   ],
   "source": [
    "print \"the percentage of correctly classified labels: {}\".format((2355 + 37) / (2411.0 + 68 +68 + 709))"
   ]
  },
  {
   "cell_type": "markdown",
   "metadata": {},
   "source": [
    "## 2. Apply the dimensionality reduction algorithms to the two datasets and describe what you see.\n"
   ]
  },
  {
   "cell_type": "markdown",
   "metadata": {},
   "source": [
    "### PCA model"
   ]
  },
  {
   "cell_type": "code",
   "execution_count": 99,
   "metadata": {
    "collapsed": false
   },
   "outputs": [
    {
     "data": {
      "text/plain": [
       "<matplotlib.text.Text at 0x109b44e10>"
      ]
     },
     "execution_count": 99,
     "metadata": {},
     "output_type": "execute_result"
    },
    {
     "data": {
      "image/png": "[encoded data removed]",
      "text/plain": [
       "<matplotlib.figure.Figure at 0x109a5e0d0>"
      ]
     },
     "metadata": {},
     "output_type": "display_data"
    }
   ],
   "source": [
    "from sklearn.decomposition import PCA\n",
    "pca = PCA(n_components = 85)\n",
    "pca.fit(data)\n",
    "#print pca.explained_variance_ratio_\n",
    "variance_explained = pca.explained_variance_ratio_\n",
    "variance_explained = pd.Series(variance_explained)\n",
    "components = pd.Series(range(1, 85))\n",
    "ve =pd.Series(variance_explained.cumsum(), index=pd.Series(range(1, 85)))\n",
    "ve.plot()\n",
    "plt.title(\"variance explained by number of components\")"
   ]
  },
  {
   "cell_type": "code",
   "execution_count": 100,
   "metadata": {
    "collapsed": false
   },
   "outputs": [
    {
     "data": {
      "text/plain": [
       "(3256, 30)"
      ]
     },
     "execution_count": 100,
     "metadata": {},
     "output_type": "execute_result"
    }
   ],
   "source": [
    "pca = PCA(n_components = 30)\n",
    "pca.fit(data)\n",
    "fitted_data_pca = pca.fit_transform(data)\n",
    "fitted_data_pca.shape"
   ]
  },
  {
   "cell_type": "code",
   "execution_count": 296,
   "metadata": {
    "collapsed": false
   },
   "outputs": [
    {
     "data": {
      "image/png": "[encoded data removed]",
      "text/plain": [
       "<matplotlib.figure.Figure at 0x10ce63d10>"
      ]
     },
     "metadata": {},
     "output_type": "display_data"
    }
   ],
   "source": [
    "#If we chose first two componen, we can see both first two components seperate the clusters pretty well\n",
    "#Create a PCA model.\n",
    "pca_2 = PCA(2)\n",
    "# Fit the PCA model on the numeric columns from earlier.\n",
    "plot_columns = pca_2.fit_transform(data)\n",
    "# Make a scatter plot of each game, shaded according to cluster assignment.\n",
    "plt.scatter(x=plot_columns[:,0], y=plot_columns[:,1], c=labels)\n",
    "plt.legend(labels, loc = 'best')\n",
    "plt.title(\"labels on first 2 components of PCA\")\n",
    "# Show the plot.\n",
    "plt.show()"
   ]
  },
  {
   "cell_type": "markdown",
   "metadata": {},
   "source": [
    "### ICA model"
   ]
  },
  {
   "cell_type": "code",
   "execution_count": 103,
   "metadata": {
    "collapsed": true
   },
   "outputs": [],
   "source": [
    "from sklearn.decomposition import FastICA\n",
    "from scipy.stats import kurtosis"
   ]
  },
  {
   "cell_type": "code",
   "execution_count": 106,
   "metadata": {
    "collapsed": false
   },
   "outputs": [],
   "source": [
    "kurt_score = []\n",
    "for i in range(5, 85, 5):\n",
    "    \n",
    "    ica = FastICA(n_components = i, whiten = True)\n",
    "    fitted_data_ica = ica.fit_transform(data)\n",
    "    kurt = kurtosis(fitted_data_ica)\n",
    "    kurt_score.append(np.sum(kurt))\n",
    "    #print 'i: {}, total_kurtosis: {}'.format(i, np.sum(kurt))"
   ]
  },
  {
   "cell_type": "code",
   "execution_count": 109,
   "metadata": {
    "collapsed": false
   },
   "outputs": [
    {
     "data": {
      "text/plain": [
       "<matplotlib.text.Text at 0x10ba0dad0>"
      ]
     },
     "execution_count": 109,
     "metadata": {},
     "output_type": "execute_result"
    },
    {
     "data": {
      "image/png": "[encoded data removed]",
      "text/plain": [
       "<matplotlib.figure.Figure at 0x10b1d9e10>"
      ]
     },
     "metadata": {},
     "output_type": "display_data"
    }
   ],
   "source": [
    "kurt_score = pd.Series(kurt_score, index=pd.Series(range(5, 85, 5)))\n",
    "kurt_score.plot()\n",
    "plt.title(\"total kurtosis\")"
   ]
  },
  {
   "cell_type": "code",
   "execution_count": 110,
   "metadata": {
    "collapsed": false
   },
   "outputs": [
    {
     "data": {
      "text/plain": [
       "(3256, 85)"
      ]
     },
     "execution_count": 110,
     "metadata": {},
     "output_type": "execute_result"
    }
   ],
   "source": [
    "ica = FastICA(whiten = True)\n",
    "fitted_data_ica = ica.fit_transform(data)\n",
    "fitted_data_ica.shape"
   ]
  },
  {
   "cell_type": "markdown",
   "metadata": {},
   "source": [
    "### Random Projection¶"
   ]
  },
  {
   "cell_type": "code",
   "execution_count": 111,
   "metadata": {
    "collapsed": true
   },
   "outputs": [],
   "source": [
    "from sklearn import random_projection\n"
   ]
  },
  {
   "cell_type": "code",
   "execution_count": 112,
   "metadata": {
    "collapsed": false
   },
   "outputs": [
    {
     "name": "stdout",
     "output_type": "stream",
     "text": [
      "eps: 0.01, value error\n",
      "eps: 0.118888888889, value error\n",
      "eps: 0.227777777778, value error\n",
      "eps: 0.336666666667, value error\n",
      "eps: 0.445555555556, value error\n",
      "eps: 0.554444444444, value error\n",
      "eps: 0.663333333333, value error\n",
      "eps: 0.772222222222, value error\n",
      "eps: 0.881111111111, value error\n",
      "eps: 0.99, value error\n"
     ]
    }
   ],
   "source": [
    "eps_range = np.linspace(0.01, 0.99, 10)\n",
    "for i in eps_range:\n",
    "    try:\n",
    "        rp = random_projection.GaussianRandomProjection(eps = i)\n",
    "        fitted_data_rp =rp.fit_transform(data)\n",
    "        print \"eps: {}, the features after reduced dimension: {}\".format(i, fitted_data_rp)\n",
    "    except ValueError:\n",
    "        print 'eps: {}, value error'.format(i)\n"
   ]
  },
  {
   "cell_type": "code",
   "execution_count": 113,
   "metadata": {
    "collapsed": false
   },
   "outputs": [
    {
     "name": "stdout",
     "output_type": "stream",
     "text": [
      "eps: 0.01, value error\n",
      "eps: 0.118888888889, value error\n",
      "eps: 0.227777777778, value error\n",
      "eps: 0.336666666667, value error\n",
      "eps: 0.445555555556, value error\n",
      "eps: 0.554444444444, value error\n",
      "eps: 0.663333333333, value error\n",
      "eps: 0.772222222222, value error\n",
      "eps: 0.881111111111, value error\n",
      "eps: 0.99, value error\n"
     ]
    }
   ],
   "source": [
    "for i in eps_range:\n",
    "    try:\n",
    "        rp = random_projection.SparseRandomProjection(eps = i)\n",
    "        fitted_data_rp =rp.fit_transform(data)\n",
    "        print \"eps: {}, the features after reduced dimension: {}\".format(i, fitted_data_rp)\n",
    "    except ValueError:\n",
    "        print 'eps: {}, value error'.format(i)\n"
   ]
  },
  {
   "cell_type": "markdown",
   "metadata": {},
   "source": [
    "### Tree based model selection¶"
   ]
  },
  {
   "cell_type": "code",
   "execution_count": 114,
   "metadata": {
    "collapsed": false
   },
   "outputs": [
    {
     "data": {
      "text/plain": [
       "(3256, 15)"
      ]
     },
     "execution_count": 114,
     "metadata": {},
     "output_type": "execute_result"
    }
   ],
   "source": [
    "from sklearn.ensemble import ExtraTreesClassifier\n",
    "from sklearn.feature_selection import SelectFromModel\n",
    "\n",
    "clf = ExtraTreesClassifier()\n",
    "clf = clf.fit(data, target)\n",
    "clf.feature_importances_  \n",
    "\n",
    "model = SelectFromModel(clf, prefit=True)\n",
    "fitted_data_tb = model.transform(data)\n",
    "fitted_data_tb.shape "
   ]
  },
  {
   "cell_type": "markdown",
   "metadata": {},
   "source": [
    "## 3. Reproduce your clustering experiments, but on the data after you've run dimensionality reduction on it.\n"
   ]
  },
  {
   "cell_type": "markdown",
   "metadata": {},
   "source": [
    "### data -> PCA -> kmeans clustering"
   ]
  },
  {
   "cell_type": "code",
   "execution_count": 329,
   "metadata": {
    "collapsed": false
   },
   "outputs": [
    {
     "name": "stdout",
     "output_type": "stream",
     "text": [
      "             precision    recall  f1-score   support\n",
      "\n",
      "        0.0       0.76      0.96      0.85      2458\n",
      "        1.0       0.26      0.05      0.08       798\n",
      "\n",
      "avg / total       0.64      0.74      0.66      3256\n",
      "\n",
      "adjusted rand score: 0.0039\n"
     ]
    }
   ],
   "source": [
    "#kmeans_model = KMeans(n_clusters=12, random_state=1)\n",
    "kmeans_model.fit(fitted_data_pca)\n",
    "#labels = kmeans_model.labels_\n",
    "\n",
    "expected = target\n",
    "predicted_pca = kmeans_model.predict(fitted_data_pca)\n",
    "print(metrics.classification_report(expected, predicted_pca))\n",
    "\n",
    "print \"adjusted rand score: {}\".format(round(adjusted_rand_score(expected, predicted_pca), 4))"
   ]
  },
  {
   "cell_type": "code",
   "execution_count": 330,
   "metadata": {
    "collapsed": false
   },
   "outputs": [
    {
     "name": "stdout",
     "output_type": "stream",
     "text": [
      "[[2358  100]\n",
      " [ 762   36]]\n"
     ]
    }
   ],
   "source": [
    "print(metrics.confusion_matrix(expected, predicted_pca));"
   ]
  },
  {
   "cell_type": "code",
   "execution_count": 331,
   "metadata": {
    "collapsed": false
   },
   "outputs": [
    {
     "name": "stdout",
     "output_type": "stream",
     "text": [
      "the percentage of correctly classified labels: 0.735257985258\n"
     ]
    }
   ],
   "source": [
    "print \"the percentage of correctly classified labels: {}\".format((2358 + 36) / (2411.0 + 68 +68 + 709))"
   ]
  },
  {
   "cell_type": "markdown",
   "metadata": {},
   "source": [
    "### data -> ICA -> kmeans clustering"
   ]
  },
  {
   "cell_type": "code",
   "execution_count": 142,
   "metadata": {
    "collapsed": false
   },
   "outputs": [
    {
     "name": "stdout",
     "output_type": "stream",
     "text": [
      "             precision    recall  f1-score   support\n",
      "\n",
      "        0.0       0.70      0.60      0.65      2479\n",
      "        1.0       0.13      0.20      0.16       777\n",
      "\n",
      "avg / total       0.57      0.50      0.53      3256\n",
      "\n",
      "adjusted rand score: -0.0239\n"
     ]
    }
   ],
   "source": [
    "#kmeans_model = KMeans(n_clusters=12, random_state=1)\n",
    "kmeans_model.fit(fitted_data_ica)\n",
    "#labels = kmeans_model.labels_\n",
    "\n",
    "expected = target\n",
    "predicted_ica = kmeans_model.predict(fitted_data_ica)\n",
    "print(metrics.classification_report(expected, predicted_ica))\n",
    "\n",
    "print \"adjusted rand score: {}\".format(round(adjusted_rand_score(expected, predicted_ica), 4))"
   ]
  },
  {
   "cell_type": "code",
   "execution_count": 332,
   "metadata": {
    "collapsed": false
   },
   "outputs": [
    {
     "name": "stdout",
     "output_type": "stream",
     "text": [
      "[[1586  872]\n",
      " [ 516  282]]\n"
     ]
    }
   ],
   "source": [
    "print(metrics.confusion_matrix(expected, predicted_ica));"
   ]
  },
  {
   "cell_type": "code",
   "execution_count": 333,
   "metadata": {
    "collapsed": false
   },
   "outputs": [
    {
     "name": "stdout",
     "output_type": "stream",
     "text": [
      "the percentage of correctly classified labels: 0.575245700246\n"
     ]
    }
   ],
   "source": [
    "print \"the percentage of correctly classified labels: {}\".format((1586 + 287) / (2411.0 + 68 +68 + 709))"
   ]
  },
  {
   "cell_type": "markdown",
   "metadata": {},
   "source": [
    "### data -> tree based feature selection -> kmeans clustering"
   ]
  },
  {
   "cell_type": "code",
   "execution_count": 143,
   "metadata": {
    "collapsed": false
   },
   "outputs": [
    {
     "name": "stdout",
     "output_type": "stream",
     "text": [
      "             precision    recall  f1-score   support\n",
      "\n",
      "        0.0       0.77      0.97      0.86      2479\n",
      "        1.0       0.50      0.09      0.15       777\n",
      "\n",
      "avg / total       0.71      0.76      0.69      3256\n",
      "\n",
      "adjusted rand score: 0.0567\n"
     ]
    }
   ],
   "source": [
    "#kmeans_model = KMeans(n_clusters=12, random_state=1)\n",
    "kmeans_model.fit(fitted_data_tb)\n",
    "#labels = kmeans_model.labels_\n",
    "\n",
    "expected = target\n",
    "predicted_tb = kmeans_model.predict(fitted_data_tb)\n",
    "print(metrics.classification_report(expected, predicted_tb))\n",
    "\n",
    "print \"adjusted rand score: {}\".format(round(adjusted_rand_score(expected, predicted_tb), 4))"
   ]
  },
  {
   "cell_type": "code",
   "execution_count": 334,
   "metadata": {
    "collapsed": false
   },
   "outputs": [
    {
     "name": "stdout",
     "output_type": "stream",
     "text": [
      "[[2358  100]\n",
      " [ 762   36]]\n"
     ]
    }
   ],
   "source": [
    "print(metrics.confusion_matrix(expected, predicted_tb));"
   ]
  },
  {
   "cell_type": "code",
   "execution_count": 336,
   "metadata": {
    "collapsed": false
   },
   "outputs": [
    {
     "name": "stdout",
     "output_type": "stream",
     "text": [
      "the percentage of correctly classified labels: 0.74355036855\n"
     ]
    }
   ],
   "source": [
    "print \"the percentage of correctly classified labels: {}\".format((2385 + 36) / (2411.0 + 68 +68 + 709))"
   ]
  },
  {
   "cell_type": "markdown",
   "metadata": {},
   "source": [
    "### data -> PCA -> Expectation Maximization clustering"
   ]
  },
  {
   "cell_type": "code",
   "execution_count": 133,
   "metadata": {
    "collapsed": false
   },
   "outputs": [
    {
     "name": "stdout",
     "output_type": "stream",
     "text": [
      "             precision    recall  f1-score   support\n",
      "\n",
      "        0.0       0.77      1.00      0.87      2479\n",
      "        1.0       1.00      0.02      0.05       777\n",
      "\n",
      "avg / total       0.82      0.77      0.67      3256\n",
      "\n",
      "adjusted rand score: 0.0255\n"
     ]
    }
   ],
   "source": [
    "gmm.fit(fitted_data_pca)\n",
    "predicted_gmm_pca = gmm.predict(fitted_data_pca)\n",
    "print(metrics.classification_report(expected, predicted_gmm_pca))\n",
    "\n",
    "print \"adjusted rand score: {}\".format(round(adjusted_rand_score(expected, predicted_gmm_pca), 4))\n"
   ]
  },
  {
   "cell_type": "code",
   "execution_count": 337,
   "metadata": {
    "collapsed": false
   },
   "outputs": [
    {
     "name": "stdout",
     "output_type": "stream",
     "text": [
      "[[2443   15]\n",
      " [ 794    4]]\n"
     ]
    }
   ],
   "source": [
    "print(metrics.confusion_matrix(expected, predicted_gmm_pca));"
   ]
  },
  {
   "cell_type": "code",
   "execution_count": 338,
   "metadata": {
    "collapsed": false
   },
   "outputs": [
    {
     "name": "stdout",
     "output_type": "stream",
     "text": [
      "the percentage of correctly classified labels: 0.751535626536\n"
     ]
    }
   ],
   "source": [
    "print \"the percentage of correctly classified labels: {}\".format((2443 + 4) / (2411.0 + 68 +68 + 709))"
   ]
  },
  {
   "cell_type": "markdown",
   "metadata": {},
   "source": [
    "### data -> ICA -> Expectation Maximization clustering"
   ]
  },
  {
   "cell_type": "code",
   "execution_count": 134,
   "metadata": {
    "collapsed": false
   },
   "outputs": [
    {
     "name": "stdout",
     "output_type": "stream",
     "text": [
      "             precision    recall  f1-score   support\n",
      "\n",
      "        0.0       0.85      0.03      0.07      2479\n",
      "        1.0       0.24      0.98      0.39       777\n",
      "\n",
      "avg / total       0.71      0.26      0.14      3256\n",
      "\n",
      "adjusted rand score: -0.0143\n"
     ]
    }
   ],
   "source": [
    "gmm.fit(fitted_data_ica)\n",
    "\n",
    "predicted_gmm_ica = gmm.predict(fitted_data_ica)\n",
    "print(metrics.classification_report(expected, predicted_gmm_ica))\n",
    "\n",
    "print \"adjusted rand score: {}\".format(round(adjusted_rand_score(expected, predicted_gmm_ica), 4))\n"
   ]
  },
  {
   "cell_type": "code",
   "execution_count": 339,
   "metadata": {
    "collapsed": false
   },
   "outputs": [
    {
     "name": "stdout",
     "output_type": "stream",
     "text": [
      "[[  79 2379]\n",
      " [  22  776]]\n"
     ]
    }
   ],
   "source": [
    "print(metrics.confusion_matrix(expected, predicted_gmm_ica));"
   ]
  },
  {
   "cell_type": "code",
   "execution_count": 340,
   "metadata": {
    "collapsed": false
   },
   "outputs": [
    {
     "name": "stdout",
     "output_type": "stream",
     "text": [
      "the percentage of correctly classified labels: 0.737407862408\n"
     ]
    }
   ],
   "source": [
    "print \"the percentage of correctly classified labels: {}\".format((2379 + 22) / (2411.0 + 68 +68 + 709))"
   ]
  },
  {
   "cell_type": "markdown",
   "metadata": {},
   "source": [
    "### data -> tree based feature selection -> Expectation Maximization clustering\n"
   ]
  },
  {
   "cell_type": "code",
   "execution_count": 137,
   "metadata": {
    "collapsed": false
   },
   "outputs": [
    {
     "name": "stdout",
     "output_type": "stream",
     "text": [
      "             precision    recall  f1-score   support\n",
      "\n",
      "        0.0       0.77      1.00      0.87      2479\n",
      "        1.0       1.00      0.02      0.05       777\n",
      "\n",
      "avg / total       0.82      0.77      0.67      3256\n",
      "\n",
      "adjusted rand score: 0.0255\n"
     ]
    }
   ],
   "source": [
    "gmm.fit(fitted_data_tb)\n",
    "\n",
    "predicted_gmm_tb = gmm.predict(fitted_data_tb)\n",
    "print(metrics.classification_report(expected, predicted_gmm_tb))\n",
    "\n",
    "print \"adjusted rand score: {}\".format(round(adjusted_rand_score(expected, predicted_gmm_tb), 4))\n"
   ]
  },
  {
   "cell_type": "code",
   "execution_count": 341,
   "metadata": {
    "collapsed": false
   },
   "outputs": [
    {
     "name": "stdout",
     "output_type": "stream",
     "text": [
      "[[2443   15]\n",
      " [ 794    4]]\n"
     ]
    }
   ],
   "source": [
    "print(metrics.confusion_matrix(expected, predicted_gmm_tb));"
   ]
  },
  {
   "cell_type": "code",
   "execution_count": 342,
   "metadata": {
    "collapsed": false
   },
   "outputs": [
    {
     "name": "stdout",
     "output_type": "stream",
     "text": [
      "the percentage of correctly classified labels: 0.751535626536\n"
     ]
    }
   ],
   "source": [
    "print \"the percentage of correctly classified labels: {}\".format((2443 + 4) / (2411.0 + 68 +68 + 709))"
   ]
  },
  {
   "cell_type": "markdown",
   "metadata": {},
   "source": [
    "## 4 Apply the dimensionality reduction algorithms to one of your datasets and rerun your neural network learner on the newly projected data.\n"
   ]
  },
  {
   "cell_type": "markdown",
   "metadata": {},
   "source": [
    "### PCA"
   ]
  },
  {
   "cell_type": "code",
   "execution_count": 270,
   "metadata": {
    "collapsed": false
   },
   "outputs": [
    {
     "name": "stdout",
     "output_type": "stream",
     "text": [
      "(3256, 30)\n",
      "<type 'numpy.ndarray'>\n",
      "(3256,)\n",
      "<type 'numpy.ndarray'>\n"
     ]
    }
   ],
   "source": [
    "data = fitted_data_pca\n",
    "\n",
    "print data.shape\n",
    "print type(data)\n",
    "print target.shape\n",
    "print type(target)"
   ]
  },
  {
   "cell_type": "code",
   "execution_count": 271,
   "metadata": {
    "collapsed": false
   },
   "outputs": [],
   "source": [
    "ds_adult = ClassificationDataSet(30, 1, nb_classes = 2)\n",
    "for i in range(len(data)):\n",
    "    ds_adult.addSample(data[i], target[i])"
   ]
  },
  {
   "cell_type": "code",
   "execution_count": 272,
   "metadata": {
    "collapsed": true
   },
   "outputs": [],
   "source": [
    "# dimension of the input and target data which is 85, 1 and the number of classes as 2\n",
    "\n",
    "trndata_adult, tstdata_adult = ds_adult.splitWithProportion(0.750)\n",
    "\n",
    "# encode classes with one output neuron per class, since softmaxlayer activation function in output neuron which requires one neuron per output class\n",
    "trndata_adult._convertToOneOfMany()\n",
    "tstdata_adult._convertToOneOfMany()"
   ]
  },
  {
   "cell_type": "code",
   "execution_count": 273,
   "metadata": {
    "collapsed": false
   },
   "outputs": [],
   "source": [
    "fnn_adult = buildNetwork(30, 16, 2, outclass= SoftmaxLayer)\n",
    "tr_adult = BackpropTrainer(fnn_adult, dataset = trndata_adult, momentum = 0.1, verbose = False, weightdecay = 0.01)\n",
    "    "
   ]
  },
  {
   "cell_type": "code",
   "execution_count": 274,
   "metadata": {
    "collapsed": false
   },
   "outputs": [
    {
     "name": "stdout",
     "output_type": "stream",
     "text": [
      "train accuracy:  24.3243243243\n",
      "test accuracy:  25.0614250614\n"
     ]
    }
   ],
   "source": [
    "   \n",
    "tr_adult.trainOnDataset(trndata_adult, epochs = 2)\n",
    "\n",
    "#predict train dataset\n",
    "train_predicted = fnn_adult.activateOnDataset(trndata_adult).argmax(axis = 1)\n",
    "\n",
    "train_accur_score = percentError(train_predicted, trndata_adult['class'])\n",
    "\n",
    "print \"train accuracy: \", train_accur_score\n",
    "\n",
    "# predict test dataset\n",
    "tst_predicted = fnn_adult.activateOnDataset(tstdata_adult).argmax(axis = 1)\n",
    "\n",
    "test_accur_score = percentError(tst_predicted, tstdata_adult['class'])\n",
    "\n",
    "print \"test accuracy: \", test_accur_score"
   ]
  },
  {
   "cell_type": "markdown",
   "metadata": {},
   "source": [
    "### ICA"
   ]
  },
  {
   "cell_type": "code",
   "execution_count": 238,
   "metadata": {
    "collapsed": false
   },
   "outputs": [
    {
     "name": "stdout",
     "output_type": "stream",
     "text": [
      "(3256, 85)\n",
      "<type 'numpy.ndarray'>\n"
     ]
    }
   ],
   "source": [
    "data = fitted_data_ica\n",
    "\n",
    "print data.shape\n",
    "print type(data)\n"
   ]
  },
  {
   "cell_type": "code",
   "execution_count": 239,
   "metadata": {
    "collapsed": false
   },
   "outputs": [
    {
     "name": "stdout",
     "output_type": "stream",
     "text": [
      "train accuracy:  25.1023751024\n",
      "test accuracy:  22.8501228501\n"
     ]
    }
   ],
   "source": [
    "ds_adult = ClassificationDataSet(85, 1, nb_classes = 2)\n",
    "for i in range(len(data)):\n",
    "    ds_adult.addSample(data[i], target[i])\n",
    "    \n",
    "# dimension of the input and target data which is 85, 1 and the number of classes as 2\n",
    "\n",
    "trndata_adult, tstdata_adult = ds_adult.splitWithProportion(0.750)\n",
    "\n",
    "# encode classes with one output neuron per class, since softmaxlayer activation function in output neuron which requires one neuron per output class\n",
    "trndata_adult._convertToOneOfMany()\n",
    "tstdata_adult._convertToOneOfMany()\n",
    "\n",
    "fnn_adult = buildNetwork(85, 43, 2, outclass= SoftmaxLayer)\n",
    "tr_adult = BackpropTrainer(fnn_adult, dataset = trndata_adult, momentum = 0.1, verbose = False, weightdecay = 0.01)\n",
    " \n",
    "   \n",
    "tr_adult.trainOnDataset(trndata_adult, epochs = 2)\n",
    "\n",
    "#predict train dataset\n",
    "train_predicted = fnn_adult.activateOnDataset(trndata_adult).argmax(axis = 1)\n",
    "\n",
    "train_accur_score = percentError(train_predicted, trndata_adult['class'])\n",
    "\n",
    "print \"train accuracy: \", train_accur_score\n",
    "\n",
    "# predict test dataset\n",
    "tst_predicted = fnn_adult.activateOnDataset(tstdata_adult).argmax(axis = 1)\n",
    "\n",
    "test_accur_score = percentError(tst_predicted, tstdata_adult['class'])\n",
    "\n",
    "print \"test accuracy: \", test_accur_score"
   ]
  },
  {
   "cell_type": "markdown",
   "metadata": {},
   "source": [
    "### Tree based "
   ]
  },
  {
   "cell_type": "code",
   "execution_count": 240,
   "metadata": {
    "collapsed": false
   },
   "outputs": [
    {
     "name": "stdout",
     "output_type": "stream",
     "text": [
      "(3256, 15)\n",
      "<type 'numpy.ndarray'>\n"
     ]
    }
   ],
   "source": [
    "   \n",
    "data = fitted_data_tb\n",
    "\n",
    "print data.shape\n",
    "print type(data)\n"
   ]
  },
  {
   "cell_type": "code",
   "execution_count": 241,
   "metadata": {
    "collapsed": false
   },
   "outputs": [
    {
     "name": "stdout",
     "output_type": "stream",
     "text": [
      "train accuracy:  24.6928746929\n",
      "test accuracy:  23.9557739558\n"
     ]
    }
   ],
   "source": [
    "ds_adult = ClassificationDataSet(15, 1, nb_classes = 2)\n",
    "for i in range(len(data)):\n",
    "    ds_adult.addSample(data[i], target[i])\n",
    "    \n",
    "# dimension of the input and target data which is 85, 1 and the number of classes as 2\n",
    "\n",
    "trndata_adult, tstdata_adult = ds_adult.splitWithProportion(0.750)\n",
    "\n",
    "# encode classes with one output neuron per class, since softmaxlayer activation function in output neuron which requires one neuron per output class\n",
    "trndata_adult._convertToOneOfMany()\n",
    "tstdata_adult._convertToOneOfMany()\n",
    "\n",
    "fnn_adult = buildNetwork(15, 8, 2, outclass= SoftmaxLayer)\n",
    "tr_adult = BackpropTrainer(fnn_adult, dataset = trndata_adult, momentum = 0.1, verbose = False, weightdecay = 0.01)\n",
    " \n",
    "   \n",
    "tr_adult.trainOnDataset(trndata_adult, epochs = 2)\n",
    "\n",
    "#predict train dataset\n",
    "train_predicted = fnn_adult.activateOnDataset(trndata_adult).argmax(axis = 1)\n",
    "\n",
    "train_accur_score = percentError(train_predicted, trndata_adult['class'])\n",
    "\n",
    "print \"train accuracy: \", train_accur_score\n",
    "\n",
    "# predict test dataset\n",
    "tst_predicted = fnn_adult.activateOnDataset(tstdata_adult).argmax(axis = 1)\n",
    "\n",
    "test_accur_score = percentError(tst_predicted, tstdata_adult['class'])\n",
    "\n",
    "print \"test accuracy: \", test_accur_score"
   ]
  },
  {
   "cell_type": "markdown",
   "metadata": {},
   "source": [
    "** percent error of nn after feature reduction by different algorithms ** \n",
    "\n",
    "\n",
    "| algo | base |   PCA  | ICA | Tree Based |\n",
    "|------|------|--------|-----|------------|\n",
    "|train|  15.97|24.32 | 25.10 |24.69| \n",
    "|test |  15.11|25.06 | 22.85 |23.96|\n"
   ]
  },
  {
   "cell_type": "markdown",
   "metadata": {},
   "source": [
    "## 5. Apply the clustering algorithms to the same dataset to which you just applied the dimensionality reduction algorithms (you've probably already done this), treating the clusters as if they were new features. In other words, treat the clustering algorithms as if they were dimensionality reduction algorithms. Again, rerun your neural network learner on the newly projected data."
   ]
  },
  {
   "cell_type": "markdown",
   "metadata": {},
   "source": [
    "### data -> PCA -> kmeans -> clustering -> NN"
   ]
  },
  {
   "cell_type": "code",
   "execution_count": 275,
   "metadata": {
    "collapsed": false
   },
   "outputs": [
    {
     "name": "stdout",
     "output_type": "stream",
     "text": [
      "(3256, 31)\n"
     ]
    }
   ],
   "source": [
    "predicted_pca = predicted_pca.reshape(3256, 1)\n",
    "fitted_data_pca_kmeans = np.hstack((fitted_data_pca, predicted_pca))\n",
    "print fitted_data_pca_kmeans.shape"
   ]
  },
  {
   "cell_type": "code",
   "execution_count": 276,
   "metadata": {
    "collapsed": false
   },
   "outputs": [
    {
     "name": "stdout",
     "output_type": "stream",
     "text": [
      "train accuracy:  24.610974611\n",
      "test accuracy:  24.2014742015\n"
     ]
    }
   ],
   "source": [
    "data = fitted_data_pca_kmeans\n",
    "ds_adult = ClassificationDataSet(31, 1, nb_classes = 2)\n",
    "for i in range(len(data)):\n",
    "    ds_adult.addSample(data[i], target[i])\n",
    "# dimension of the input and target data which is 85, 1 and the number of classes as 2\n",
    "\n",
    "trndata_adult, tstdata_adult = ds_adult.splitWithProportion(0.750)\n",
    "\n",
    "# encode classes with one output neuron per class, since softmaxlayer activation function in output neuron which requires one neuron per output class\n",
    "trndata_adult._convertToOneOfMany()\n",
    "tstdata_adult._convertToOneOfMany()\n",
    "\n",
    "fnn_adult = buildNetwork(31, 16, 2, outclass= SoftmaxLayer)\n",
    "tr_adult = BackpropTrainer(fnn_adult, dataset = trndata_adult, momentum = 0.1, verbose = False, weightdecay = 0.01)\n",
    "\n",
    "   \n",
    "tr_adult.trainOnDataset(trndata_adult, epochs = 2)\n",
    "\n",
    "#predict train dataset\n",
    "train_predicted = fnn_adult.activateOnDataset(trndata_adult).argmax(axis = 1)\n",
    "\n",
    "train_accur_score = percentError(train_predicted, trndata_adult['class'])\n",
    "\n",
    "print \"train accuracy: \", train_accur_score\n",
    "\n",
    "# predict test dataset\n",
    "tst_predicted = fnn_adult.activateOnDataset(tstdata_adult).argmax(axis = 1)\n",
    "\n",
    "test_accur_score = percentError(tst_predicted, tstdata_adult['class'])\n",
    "\n",
    "print \"test accuracy: \", test_accur_score"
   ]
  },
  {
   "cell_type": "markdown",
   "metadata": {},
   "source": [
    "## data -> ICA -> kmeans -> clustering -> NN"
   ]
  },
  {
   "cell_type": "code",
   "execution_count": 280,
   "metadata": {
    "collapsed": false
   },
   "outputs": [
    {
     "name": "stdout",
     "output_type": "stream",
     "text": [
      "(3256, 86)\n"
     ]
    }
   ],
   "source": [
    "predicted_ica = predicted_ica.reshape(3256, 1)\n",
    "fitted_data_ica_kmeans = np.hstack((fitted_data_ica, predicted_ica))\n",
    "print fitted_data_ica_kmeans.shape"
   ]
  },
  {
   "cell_type": "code",
   "execution_count": 281,
   "metadata": {
    "collapsed": false
   },
   "outputs": [
    {
     "name": "stdout",
     "output_type": "stream",
     "text": [
      "train accuracy:  24.4062244062\n",
      "test accuracy:  24.9385749386\n"
     ]
    }
   ],
   "source": [
    "data = fitted_data_ica_kmeans\n",
    "ds_adult = ClassificationDataSet(86, 1, nb_classes = 2)\n",
    "for i in range(len(data)):\n",
    "    ds_adult.addSample(data[i], target[i])\n",
    "# dimension of the input and target data which is 85, 1 and the number of classes as 2\n",
    "\n",
    "trndata_adult, tstdata_adult = ds_adult.splitWithProportion(0.750)\n",
    "\n",
    "# encode classes with one output neuron per class, since softmaxlayer activation function in output neuron which requires one neuron per output class\n",
    "trndata_adult._convertToOneOfMany()\n",
    "tstdata_adult._convertToOneOfMany()\n",
    "\n",
    "fnn_adult = buildNetwork(86, 44, 2, outclass= SoftmaxLayer)\n",
    "tr_adult = BackpropTrainer(fnn_adult, dataset = trndata_adult, momentum = 0.1, verbose = False, weightdecay = 0.01)\n",
    "\n",
    "   \n",
    "tr_adult.trainOnDataset(trndata_adult, epochs = 2)\n",
    "\n",
    "#predict train dataset\n",
    "train_predicted = fnn_adult.activateOnDataset(trndata_adult).argmax(axis = 1)\n",
    "\n",
    "train_accur_score = percentError(train_predicted, trndata_adult['class'])\n",
    "\n",
    "print \"train accuracy: \", train_accur_score\n",
    "\n",
    "# predict test dataset\n",
    "tst_predicted = fnn_adult.activateOnDataset(tstdata_adult).argmax(axis = 1)\n",
    "\n",
    "test_accur_score = percentError(tst_predicted, tstdata_adult['class'])\n",
    "\n",
    "print \"test accuracy: \", test_accur_score"
   ]
  },
  {
   "cell_type": "markdown",
   "metadata": {},
   "source": [
    "### data -> tree based feature selection -> kmeans -> clustering -> NN¶"
   ]
  },
  {
   "cell_type": "code",
   "execution_count": 284,
   "metadata": {
    "collapsed": false
   },
   "outputs": [
    {
     "name": "stdout",
     "output_type": "stream",
     "text": [
      "(3256, 16)\n"
     ]
    }
   ],
   "source": [
    "predicted_tb = predicted_tb.reshape(3256, 1)\n",
    "fitted_data_tb_kmeans = np.hstack((fitted_data_tb, predicted_tb))\n",
    "print fitted_data_tb_kmeans.shape"
   ]
  },
  {
   "cell_type": "code",
   "execution_count": 286,
   "metadata": {
    "collapsed": false
   },
   "outputs": [
    {
     "name": "stdout",
     "output_type": "stream",
     "text": [
      "train accuracy:  24.4881244881\n",
      "test accuracy:  24.57002457\n"
     ]
    }
   ],
   "source": [
    "data = fitted_data_tb_kmeans\n",
    "ds_adult = ClassificationDataSet(16, 1, nb_classes = 2)\n",
    "for i in range(len(data)):\n",
    "    ds_adult.addSample(data[i], target[i])\n",
    "# dimension of the input and target data which is 85, 1 and the number of classes as 2\n",
    "\n",
    "trndata_adult, tstdata_adult = ds_adult.splitWithProportion(0.750)\n",
    "\n",
    "# encode classes with one output neuron per class, since softmaxlayer activation function in output neuron which requires one neuron per output class\n",
    "trndata_adult._convertToOneOfMany()\n",
    "tstdata_adult._convertToOneOfMany()\n",
    "\n",
    "fnn_adult = buildNetwork(16, 9, 2, outclass= SoftmaxLayer)\n",
    "tr_adult = BackpropTrainer(fnn_adult, dataset = trndata_adult, momentum = 0.1, verbose = False, weightdecay = 0.01)\n",
    "\n",
    "   \n",
    "tr_adult.trainOnDataset(trndata_adult, epochs = 2)\n",
    "\n",
    "#predict train dataset\n",
    "train_predicted = fnn_adult.activateOnDataset(trndata_adult).argmax(axis = 1)\n",
    "\n",
    "train_accur_score = percentError(train_predicted, trndata_adult['class'])\n",
    "\n",
    "print \"train accuracy: \", train_accur_score\n",
    "\n",
    "# predict test dataset\n",
    "tst_predicted = fnn_adult.activateOnDataset(tstdata_adult).argmax(axis = 1)\n",
    "\n",
    "test_accur_score = percentError(tst_predicted, tstdata_adult['class'])\n",
    "\n",
    "print \"test accuracy: \", test_accur_score"
   ]
  },
  {
   "cell_type": "markdown",
   "metadata": {},
   "source": [
    "### data -> PCA -> Expectation Maximization clustering -> NN"
   ]
  },
  {
   "cell_type": "code",
   "execution_count": 288,
   "metadata": {
    "collapsed": false
   },
   "outputs": [
    {
     "name": "stdout",
     "output_type": "stream",
     "text": [
      "(3256, 31)\n"
     ]
    }
   ],
   "source": [
    "predicted_gmm_pca = predicted_gmm_pca.reshape(3256, 1)\n",
    "fitted_data_pca_gmm = np.hstack((fitted_data_pca, predicted_gmm_pca))\n",
    "print fitted_data_pca_gmm.shape"
   ]
  },
  {
   "cell_type": "code",
   "execution_count": 289,
   "metadata": {
    "collapsed": false
   },
   "outputs": [
    {
     "name": "stdout",
     "output_type": "stream",
     "text": [
      "train accuracy:  23.8329238329\n",
      "test accuracy:  26.5356265356\n"
     ]
    }
   ],
   "source": [
    "data = fitted_data_pca_gmm\n",
    "ds_adult = ClassificationDataSet(31, 1, nb_classes = 2)\n",
    "for i in range(len(data)):\n",
    "    ds_adult.addSample(data[i], target[i])\n",
    "# dimension of the input and target data which is 85, 1 and the number of classes as 2\n",
    "\n",
    "trndata_adult, tstdata_adult = ds_adult.splitWithProportion(0.750)\n",
    "\n",
    "# encode classes with one output neuron per class, since softmaxlayer activation function in output neuron which requires one neuron per output class\n",
    "trndata_adult._convertToOneOfMany()\n",
    "tstdata_adult._convertToOneOfMany()\n",
    "\n",
    "fnn_adult = buildNetwork(31, 16, 2, outclass= SoftmaxLayer)\n",
    "tr_adult = BackpropTrainer(fnn_adult, dataset = trndata_adult, momentum = 0.1, verbose = False, weightdecay = 0.01)\n",
    "\n",
    "   \n",
    "tr_adult.trainOnDataset(trndata_adult, epochs = 2)\n",
    "\n",
    "#predict train dataset\n",
    "train_predicted = fnn_adult.activateOnDataset(trndata_adult).argmax(axis = 1)\n",
    "\n",
    "train_accur_score = percentError(train_predicted, trndata_adult['class'])\n",
    "\n",
    "print \"train accuracy: \", train_accur_score\n",
    "\n",
    "# predict test dataset\n",
    "tst_predicted = fnn_adult.activateOnDataset(tstdata_adult).argmax(axis = 1)\n",
    "\n",
    "test_accur_score = percentError(tst_predicted, tstdata_adult['class'])\n",
    "\n",
    "print \"test accuracy: \", test_accur_score"
   ]
  },
  {
   "cell_type": "markdown",
   "metadata": {},
   "source": [
    "### data -> ICA -> Expectation Maximization clustering -> NN"
   ]
  },
  {
   "cell_type": "code",
   "execution_count": 290,
   "metadata": {
    "collapsed": false
   },
   "outputs": [
    {
     "name": "stdout",
     "output_type": "stream",
     "text": [
      "(3256, 86)\n"
     ]
    }
   ],
   "source": [
    "predicted_gmm_ica = predicted_gmm_ica.reshape(3256, 1)\n",
    "fitted_data_ica_gmm = np.hstack((fitted_data_ica, predicted_gmm_ica))\n",
    "print fitted_data_ica_gmm.shape"
   ]
  },
  {
   "cell_type": "code",
   "execution_count": 291,
   "metadata": {
    "collapsed": false
   },
   "outputs": [
    {
     "name": "stdout",
     "output_type": "stream",
     "text": [
      "train accuracy:  24.0376740377\n",
      "test accuracy:  26.1670761671\n"
     ]
    }
   ],
   "source": [
    "data = fitted_data_ica_kmeans\n",
    "ds_adult = ClassificationDataSet(86, 1, nb_classes = 2)\n",
    "for i in range(len(data)):\n",
    "    ds_adult.addSample(data[i], target[i])\n",
    "# dimension of the input and target data which is 85, 1 and the number of classes as 2\n",
    "\n",
    "trndata_adult, tstdata_adult = ds_adult.splitWithProportion(0.750)\n",
    "\n",
    "# encode classes with one output neuron per class, since softmaxlayer activation function in output neuron which requires one neuron per output class\n",
    "trndata_adult._convertToOneOfMany()\n",
    "tstdata_adult._convertToOneOfMany()\n",
    "\n",
    "fnn_adult = buildNetwork(86, 44, 2, outclass= SoftmaxLayer)\n",
    "tr_adult = BackpropTrainer(fnn_adult, dataset = trndata_adult, momentum = 0.1, verbose = False, weightdecay = 0.01)\n",
    "\n",
    "   \n",
    "tr_adult.trainOnDataset(trndata_adult, epochs = 2)\n",
    "\n",
    "#predict train dataset\n",
    "train_predicted = fnn_adult.activateOnDataset(trndata_adult).argmax(axis = 1)\n",
    "\n",
    "train_accur_score = percentError(train_predicted, trndata_adult['class'])\n",
    "\n",
    "print \"train accuracy: \", train_accur_score\n",
    "\n",
    "# predict test dataset\n",
    "tst_predicted = fnn_adult.activateOnDataset(tstdata_adult).argmax(axis = 1)\n",
    "\n",
    "test_accur_score = percentError(tst_predicted, tstdata_adult['class'])\n",
    "\n",
    "print \"test accuracy: \", test_accur_score"
   ]
  },
  {
   "cell_type": "markdown",
   "metadata": {},
   "source": [
    "### data -> tree based feature selecgion -> Expectation Maximization clustering -> NN"
   ]
  },
  {
   "cell_type": "code",
   "execution_count": 292,
   "metadata": {
    "collapsed": false
   },
   "outputs": [
    {
     "name": "stdout",
     "output_type": "stream",
     "text": [
      "(3256, 16)\n"
     ]
    }
   ],
   "source": [
    "predicted_gmm_tb = predicted_gmm_tb.reshape(3256, 1)\n",
    "fitted_data_tb_gmm = np.hstack((fitted_data_tb, predicted_gmm_tb))\n",
    "print fitted_data_tb_gmm.shape"
   ]
  },
  {
   "cell_type": "code",
   "execution_count": 293,
   "metadata": {
    "collapsed": false
   },
   "outputs": [
    {
     "name": "stdout",
     "output_type": "stream",
     "text": [
      "train accuracy:  25.3071253071\n",
      "test accuracy:  22.113022113\n"
     ]
    }
   ],
   "source": [
    "data = fitted_data_tb_kmeans\n",
    "ds_adult = ClassificationDataSet(16, 1, nb_classes = 2)\n",
    "for i in range(len(data)):\n",
    "    ds_adult.addSample(data[i], target[i])\n",
    "# dimension of the input and target data which is 85, 1 and the number of classes as 2\n",
    "\n",
    "trndata_adult, tstdata_adult = ds_adult.splitWithProportion(0.750)\n",
    "\n",
    "# encode classes with one output neuron per class, since softmaxlayer activation function in output neuron which requires one neuron per output class\n",
    "trndata_adult._convertToOneOfMany()\n",
    "tstdata_adult._convertToOneOfMany()\n",
    "\n",
    "fnn_adult = buildNetwork(16, 9, 2, outclass= SoftmaxLayer)\n",
    "tr_adult = BackpropTrainer(fnn_adult, dataset = trndata_adult, momentum = 0.1, verbose = False, weightdecay = 0.01)\n",
    "\n",
    "   \n",
    "tr_adult.trainOnDataset(trndata_adult, epochs = 2)\n",
    "\n",
    "#predict train dataset\n",
    "train_predicted = fnn_adult.activateOnDataset(trndata_adult).argmax(axis = 1)\n",
    "\n",
    "train_accur_score = percentError(train_predicted, trndata_adult['class'])\n",
    "\n",
    "print \"train accuracy: \", train_accur_score\n",
    "\n",
    "# predict test dataset\n",
    "tst_predicted = fnn_adult.activateOnDataset(tstdata_adult).argmax(axis = 1)\n",
    "\n",
    "test_accur_score = percentError(tst_predicted, tstdata_adult['class'])\n",
    "\n",
    "print \"test accuracy: \", test_accur_score"
   ]
  },
  {
   "cell_type": "markdown",
   "metadata": {},
   "source": [
    "** percent error of nn after feature reduction by different algorithms ** \n",
    "\n",
    "\n",
    "| algo | base |   PCA+kMean  | ICA+KMean | TreeBased+Kmean|\n",
    "|------|------|--------|-----|------------|\n",
    "|train|  15.97|24.61 | 24.40 |24.49| \n",
    "|test |  15.11|24.20 | 24.93 |24.57|\n"
   ]
  },
  {
   "cell_type": "markdown",
   "metadata": {},
   "source": [
    "| algo | base |   PCA+em  | ICA+em | TreeBased+em|\n",
    "|------|------|--------|-----|------------|\n",
    "|train|  15.97|23.83 | 24.03 |25.30| \n",
    "|test |  15.11|26.53 | 26.17 |22.11|\n"
   ]
  },
  {
   "cell_type": "code",
   "execution_count": null,
   "metadata": {
    "collapsed": true
   },
   "outputs": [],
   "source": []
  }
 ],
 "metadata": {
  "kernelspec": {
   "display_name": "Python 2",
   "language": "python",
   "name": "python2"
  },
  "language_info": {
   "codemirror_mode": {
    "name": "ipython",
    "version": 2
   },
   "file_extension": ".py",
   "mimetype": "text/x-python",
   "name": "python",
   "nbconvert_exporter": "python",
   "pygments_lexer": "ipython2",
   "version": "2.7.11"
  }
 },
 "nbformat": 4,
 "nbformat_minor": 0
}
